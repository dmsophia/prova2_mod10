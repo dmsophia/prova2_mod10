{
  "nbformat": 4,
  "nbformat_minor": 0,
  "metadata": {
    "colab": {
      "provenance": [],
      "include_colab_link": true
    },
    "kernelspec": {
      "name": "python3",
      "display_name": "Python 3"
    },
    "language_info": {
      "name": "python"
    }
  },
  "cells": [
    {
      "cell_type": "markdown",
      "metadata": {
        "id": "view-in-github",
        "colab_type": "text"
      },
      "source": [
        "<a href=\"https://colab.research.google.com/github/dmsophia/prova2_mod10/blob/main/ITL_SI10_2024_Prova_P2_Sophia.ipynb\" target=\"_parent\"><img src=\"https://colab.research.google.com/assets/colab-badge.svg\" alt=\"Open In Colab\"/></a>"
      ]
    },
    {
      "cell_type": "markdown",
      "source": [
        "<center>\n",
        "  <img src=\"https://www.inteli.edu.br/wp-content/uploads/2022/04/28103439/Logo-Container.png\" />\n",
        "</center>"
      ],
      "metadata": {
        "id": "V2N9h-9_J-pH"
      }
    },
    {
      "cell_type": "markdown",
      "source": [
        "# `[SI10-2024-P2]` - Prova Prática"
      ],
      "metadata": {
        "id": "17CxrA-0KNVC"
      }
    },
    {
      "cell_type": "markdown",
      "source": [
        "Sistemas de Informação - Módulo 10 - Turma 4\n",
        "\n"
      ],
      "metadata": {
        "id": "rUdo4gdLMUQO"
      }
    },
    {
      "cell_type": "markdown",
      "source": [
        "**Nome**: *Escreva seu nome aqui.*"
      ],
      "metadata": {
        "id": "fOUrvQIkEuaj"
      }
    },
    {
      "cell_type": "markdown",
      "source": [
        "**ANTES DE PROSSEGUIR FAÇA UMA CÓPIA DESTE NOTEBOOK**"
      ],
      "metadata": {
        "id": "0zjnr3Mq2Pqb"
      }
    },
    {
      "cell_type": "markdown",
      "source": [
        "----"
      ],
      "metadata": {
        "id": "yLqgpidSE1jb"
      }
    },
    {
      "cell_type": "markdown",
      "source": [
        "## Contexto"
      ],
      "metadata": {
        "id": "hAI4WVs6E2vi"
      }
    },
    {
      "cell_type": "markdown",
      "source": [
        "O [SAGe](https://sage.fapesp.br/SAGe_WEB/jsp/loginAdm.jsp) é um sistema desenvolvido pela Fundação de Amparo à Pesquisa do Estado de São Paulo (FAPESP) para beneficiar participantes de seus programas de fomento. Esse sistema é utilizado para diversas finalidades, como inscrição em processos de fomento, prestação de contas e consulta de recebimentos. Devido à baixa frequência de uso (em média, quatro vezes ao ano), é comum que os usuários esqueçam suas senhas entre um acesso e outro."
      ],
      "metadata": {
        "id": "MxHRN2DpE_B6"
      }
    },
    {
      "cell_type": "markdown",
      "source": [
        "## Problema"
      ],
      "metadata": {
        "id": "kfnFGF_MzcIA"
      }
    },
    {
      "cell_type": "markdown",
      "source": [
        "Alguns funcionários do call center da FAPESP andam recebendo há um bom tempo muitas ligações dizendo que os usuários \"não conseguem recuperar a senha\". Os usuários alegam que não conseguem preencher o formulário de recuperação de senha, que \"dá erro\", que desistem etc.\n",
        "\n",
        "Os gestores do sistema encaminharam o problema ao time de desenvolvimento, que julgou ser necessário investigar melhor junto ao time de Design. Os times dispõem de dados de Analytics sobre a página, e a primeira ação foi extrair um relatório desde o início do ano de 2024 para tentar entender o comportamento do usuário sobre a plataforma, especialmente na página de recuperação de senha.\n"
      ],
      "metadata": {
        "id": "gHoi1-jUwfyQ"
      }
    },
    {
      "cell_type": "markdown",
      "source": [
        "## Fluxo de interação do usuário (atual)"
      ],
      "metadata": {
        "id": "B85FyD9x0D2-"
      }
    },
    {
      "cell_type": "markdown",
      "source": [
        "O fluxo de interação do usuário para recuperação de senha prevê as seguintes telas (você pode explorar melhor cada etapa entrando no [SAGe](https://sage.fapesp.br/SAGe_WEB/jsp/loginAdm.jsp)):\n"
      ],
      "metadata": {
        "id": "vfRNGcVY0IxT"
      }
    },
    {
      "cell_type": "markdown",
      "source": [
        "<table>\n",
        "  <tr>\n",
        "    <td>\n",
        "      <img src=\"https://i.imgur.com/HrvpNqi.png\" />\n",
        "    </td>\n",
        "  </tr>\n",
        "  <tr>\n",
        "    <td align=\"center\">\n",
        "      <strong>\n",
        "        Figura 1. Tela Inicial\n",
        "      </strong>\n",
        "    </td>\n",
        "  </tr>  \n",
        "</table>"
      ],
      "metadata": {
        "id": "TXQsG69A0pmj"
      }
    },
    {
      "cell_type": "markdown",
      "source": [
        "<table>\n",
        "  <tr>\n",
        "    <td>\n",
        "      <img src=\"https://i.imgur.com/grH5r1T.png\" />\n",
        "    </td>\n",
        "  </tr>\n",
        "  <tr>\n",
        "    <td align=\"center\">\n",
        "      <strong>\n",
        "        Figura 2. Popup que abre para redefinição de senha ou identificação\n",
        "      </strong>\n",
        "    </td>\n",
        "  </tr>  \n",
        "</table>"
      ],
      "metadata": {
        "id": "IlFIOh_F1Ymj"
      }
    },
    {
      "cell_type": "markdown",
      "source": [
        "<table>\n",
        "  <tr>\n",
        "    <td>\n",
        "      <img src=\"https://i.imgur.com/9SRpd8X.png\" />\n",
        "    </td>\n",
        "  </tr>\n",
        "  <tr>\n",
        "    <td align=\"center\">\n",
        "      <strong>\n",
        "        Figura 3. Caso dê certo o preenchimento\n",
        "      </strong>\n",
        "    </td>\n",
        "  </tr>  \n",
        "</table>"
      ],
      "metadata": {
        "id": "iFmFedCZ1ZPk"
      }
    },
    {
      "cell_type": "markdown",
      "source": [
        "<table>\n",
        "  <tr>\n",
        "    <td>\n",
        "      <img src=\"https://i.imgur.com/rqvYON2.png\" />\n",
        "    </td>\n",
        "  </tr>\n",
        "  <tr>\n",
        "    <td align=\"center\">\n",
        "      <strong>\n",
        "        Figura 4. Emissão de alertas em casos de erro\n",
        "      </strong>\n",
        "    </td>\n",
        "  </tr>  \n",
        "</table>"
      ],
      "metadata": {
        "id": "NGYdPy141Zoz"
      }
    },
    {
      "cell_type": "markdown",
      "source": [
        "<table>\n",
        "  <tr>\n",
        "    <td>\n",
        "      <img src=\"https://i.imgur.com/rqvYON2.png\" />\n",
        "    </td>\n",
        "  </tr>\n",
        "  <tr>\n",
        "    <td align=\"center\">\n",
        "      <strong>\n",
        "        Figura 5. Esqueci minha senha\n",
        "      </strong>\n",
        "    </td>\n",
        "  </tr>  \n",
        "</table>"
      ],
      "metadata": {
        "id": "kh7VLimP1aDq"
      }
    },
    {
      "cell_type": "markdown",
      "source": [
        "## Dados extraídos do Analytics"
      ],
      "metadata": {
        "id": "f_y3dG-wFAy1"
      }
    },
    {
      "cell_type": "code",
      "source": [
        "# Bibliotecas utilizadas neste caderno\n",
        "import pandas as pd\n",
        "import matplotlib.pyplot as plt\n",
        "import numpy as np\n",
        "from matplotlib.ticker import StrMethodFormatter\n",
        "import seaborn as sns\n",
        "import scipy.stats as stats\n",
        "from statsmodels.stats.power import TTestIndPower"
      ],
      "metadata": {
        "id": "7Ru1QdBez7VJ"
      },
      "execution_count": 71,
      "outputs": []
    },
    {
      "cell_type": "markdown",
      "source": [
        "### Antes do Teste A/B\n"
      ],
      "metadata": {
        "id": "phY_ZOEZMDCY"
      }
    },
    {
      "cell_type": "markdown",
      "source": [
        "O conjunto dados extraídos do Analytics referente ao período de 01/01/2024 - 30/04/2024 pode ser obtido ao executar os códigos a seguir:"
      ],
      "metadata": {
        "id": "rEPnmnsPzmOO"
      }
    },
    {
      "cell_type": "code",
      "source": [
        "# Importação dos dados do Analytics\n",
        "# https://drive.google.com/file/d/10kV0AnlL4WxJ5SZVmSYM9guq6biAq9hR/view?usp=sharing\n",
        "!gdown 10kV0AnlL4WxJ5SZVmSYM9guq6biAq9hR"
      ],
      "metadata": {
        "colab": {
          "base_uri": "https://localhost:8080/"
        },
        "id": "qenoiQovFDmA",
        "outputId": "3a2676c4-e93a-4c22-a8fd-03baaf8dbed5"
      },
      "execution_count": 72,
      "outputs": [
        {
          "output_type": "stream",
          "name": "stdout",
          "text": [
            "Downloading...\n",
            "From: https://drive.google.com/uc?id=10kV0AnlL4WxJ5SZVmSYM9guq6biAq9hR\n",
            "To: /content/ITL-SI10-2024-P2-analytics-antes.csv\n",
            "\r  0% 0.00/148k [00:00<?, ?B/s]\r100% 148k/148k [00:00<00:00, 7.09MB/s]\n"
          ]
        }
      ]
    },
    {
      "cell_type": "code",
      "source": [
        "# Lê o dataset referente aos acessos antes de se aplicar o teste A/B\n",
        "antes_df = pd.read_csv('/content/ITL-SI10-2024-P2-analytics-antes.csv')\n",
        "antes_df.tail()"
      ],
      "metadata": {
        "colab": {
          "base_uri": "https://localhost:8080/",
          "height": 313
        },
        "id": "EKRMnxrgFOFF",
        "outputId": "d7a7f7b4-7827-4c21-b9f5-e767444fdbde"
      },
      "execution_count": 73,
      "outputs": [
        {
          "output_type": "execute_result",
          "data": {
            "text/plain": [
              "           Data      Hora  Usuário_ID  Tentativa Resultado  Tempo_na_Página  \\\n",
              "995  2024-04-29  20:46:11        1925          2   sucesso              109   \n",
              "996  2024-04-29  16:41:54        1546          0   sucesso               30   \n",
              "997  2024-04-29  00:02:50        1848          2   sucesso              125   \n",
              "998  2024-04-29  06:42:09        1468          0   sucesso               75   \n",
              "999  2024-04-29  05:14:26        1642          2   sucesso              124   \n",
              "\n",
              "     Páginas_Visitadas  Tempo_Carregamento  Scroll_Profundidade  Cliques  \\\n",
              "995                 19                1613            84.800931        8   \n",
              "996                  8                2320            68.308041       23   \n",
              "997                 14                2634            21.301598       17   \n",
              "998                 15                1577            90.530453       40   \n",
              "999                  7                2027            64.457295        2   \n",
              "\n",
              "     Tempo_Interação  Taxa_de_Rejeição Abandono Mensagem_de_Erro Navegador  \\\n",
              "995               42         61.852319      não              NaN      Edge   \n",
              "996               30         77.220645      não              NaN    Chrome   \n",
              "997               63         42.058384      não              NaN    Safari   \n",
              "998               22         10.070072      não              NaN   Firefox   \n",
              "999               25         36.947753      não              NaN      Edge   \n",
              "\n",
              "    Dispositivo              IP         Localização  \n",
              "995      tablet   193.23.116.22  Rio de Janeiro, BR  \n",
              "996     celular   249.156.209.1        Campinas, BR  \n",
              "997     desktop  82.250.243.249       São Paulo, BR  \n",
              "998     desktop    94.93.72.223       São Paulo, BR  \n",
              "999     desktop    5.90.141.134        Campinas, BR  "
            ],
            "text/html": [
              "\n",
              "  <div id=\"df-0ec735c0-c516-43cc-a9e1-2ac09166f39b\" class=\"colab-df-container\">\n",
              "    <div>\n",
              "<style scoped>\n",
              "    .dataframe tbody tr th:only-of-type {\n",
              "        vertical-align: middle;\n",
              "    }\n",
              "\n",
              "    .dataframe tbody tr th {\n",
              "        vertical-align: top;\n",
              "    }\n",
              "\n",
              "    .dataframe thead th {\n",
              "        text-align: right;\n",
              "    }\n",
              "</style>\n",
              "<table border=\"1\" class=\"dataframe\">\n",
              "  <thead>\n",
              "    <tr style=\"text-align: right;\">\n",
              "      <th></th>\n",
              "      <th>Data</th>\n",
              "      <th>Hora</th>\n",
              "      <th>Usuário_ID</th>\n",
              "      <th>Tentativa</th>\n",
              "      <th>Resultado</th>\n",
              "      <th>Tempo_na_Página</th>\n",
              "      <th>Páginas_Visitadas</th>\n",
              "      <th>Tempo_Carregamento</th>\n",
              "      <th>Scroll_Profundidade</th>\n",
              "      <th>Cliques</th>\n",
              "      <th>Tempo_Interação</th>\n",
              "      <th>Taxa_de_Rejeição</th>\n",
              "      <th>Abandono</th>\n",
              "      <th>Mensagem_de_Erro</th>\n",
              "      <th>Navegador</th>\n",
              "      <th>Dispositivo</th>\n",
              "      <th>IP</th>\n",
              "      <th>Localização</th>\n",
              "    </tr>\n",
              "  </thead>\n",
              "  <tbody>\n",
              "    <tr>\n",
              "      <th>995</th>\n",
              "      <td>2024-04-29</td>\n",
              "      <td>20:46:11</td>\n",
              "      <td>1925</td>\n",
              "      <td>2</td>\n",
              "      <td>sucesso</td>\n",
              "      <td>109</td>\n",
              "      <td>19</td>\n",
              "      <td>1613</td>\n",
              "      <td>84.800931</td>\n",
              "      <td>8</td>\n",
              "      <td>42</td>\n",
              "      <td>61.852319</td>\n",
              "      <td>não</td>\n",
              "      <td>NaN</td>\n",
              "      <td>Edge</td>\n",
              "      <td>tablet</td>\n",
              "      <td>193.23.116.22</td>\n",
              "      <td>Rio de Janeiro, BR</td>\n",
              "    </tr>\n",
              "    <tr>\n",
              "      <th>996</th>\n",
              "      <td>2024-04-29</td>\n",
              "      <td>16:41:54</td>\n",
              "      <td>1546</td>\n",
              "      <td>0</td>\n",
              "      <td>sucesso</td>\n",
              "      <td>30</td>\n",
              "      <td>8</td>\n",
              "      <td>2320</td>\n",
              "      <td>68.308041</td>\n",
              "      <td>23</td>\n",
              "      <td>30</td>\n",
              "      <td>77.220645</td>\n",
              "      <td>não</td>\n",
              "      <td>NaN</td>\n",
              "      <td>Chrome</td>\n",
              "      <td>celular</td>\n",
              "      <td>249.156.209.1</td>\n",
              "      <td>Campinas, BR</td>\n",
              "    </tr>\n",
              "    <tr>\n",
              "      <th>997</th>\n",
              "      <td>2024-04-29</td>\n",
              "      <td>00:02:50</td>\n",
              "      <td>1848</td>\n",
              "      <td>2</td>\n",
              "      <td>sucesso</td>\n",
              "      <td>125</td>\n",
              "      <td>14</td>\n",
              "      <td>2634</td>\n",
              "      <td>21.301598</td>\n",
              "      <td>17</td>\n",
              "      <td>63</td>\n",
              "      <td>42.058384</td>\n",
              "      <td>não</td>\n",
              "      <td>NaN</td>\n",
              "      <td>Safari</td>\n",
              "      <td>desktop</td>\n",
              "      <td>82.250.243.249</td>\n",
              "      <td>São Paulo, BR</td>\n",
              "    </tr>\n",
              "    <tr>\n",
              "      <th>998</th>\n",
              "      <td>2024-04-29</td>\n",
              "      <td>06:42:09</td>\n",
              "      <td>1468</td>\n",
              "      <td>0</td>\n",
              "      <td>sucesso</td>\n",
              "      <td>75</td>\n",
              "      <td>15</td>\n",
              "      <td>1577</td>\n",
              "      <td>90.530453</td>\n",
              "      <td>40</td>\n",
              "      <td>22</td>\n",
              "      <td>10.070072</td>\n",
              "      <td>não</td>\n",
              "      <td>NaN</td>\n",
              "      <td>Firefox</td>\n",
              "      <td>desktop</td>\n",
              "      <td>94.93.72.223</td>\n",
              "      <td>São Paulo, BR</td>\n",
              "    </tr>\n",
              "    <tr>\n",
              "      <th>999</th>\n",
              "      <td>2024-04-29</td>\n",
              "      <td>05:14:26</td>\n",
              "      <td>1642</td>\n",
              "      <td>2</td>\n",
              "      <td>sucesso</td>\n",
              "      <td>124</td>\n",
              "      <td>7</td>\n",
              "      <td>2027</td>\n",
              "      <td>64.457295</td>\n",
              "      <td>2</td>\n",
              "      <td>25</td>\n",
              "      <td>36.947753</td>\n",
              "      <td>não</td>\n",
              "      <td>NaN</td>\n",
              "      <td>Edge</td>\n",
              "      <td>desktop</td>\n",
              "      <td>5.90.141.134</td>\n",
              "      <td>Campinas, BR</td>\n",
              "    </tr>\n",
              "  </tbody>\n",
              "</table>\n",
              "</div>\n",
              "    <div class=\"colab-df-buttons\">\n",
              "\n",
              "  <div class=\"colab-df-container\">\n",
              "    <button class=\"colab-df-convert\" onclick=\"convertToInteractive('df-0ec735c0-c516-43cc-a9e1-2ac09166f39b')\"\n",
              "            title=\"Convert this dataframe to an interactive table.\"\n",
              "            style=\"display:none;\">\n",
              "\n",
              "  <svg xmlns=\"http://www.w3.org/2000/svg\" height=\"24px\" viewBox=\"0 -960 960 960\">\n",
              "    <path d=\"M120-120v-720h720v720H120Zm60-500h600v-160H180v160Zm220 220h160v-160H400v160Zm0 220h160v-160H400v160ZM180-400h160v-160H180v160Zm440 0h160v-160H620v160ZM180-180h160v-160H180v160Zm440 0h160v-160H620v160Z\"/>\n",
              "  </svg>\n",
              "    </button>\n",
              "\n",
              "  <style>\n",
              "    .colab-df-container {\n",
              "      display:flex;\n",
              "      gap: 12px;\n",
              "    }\n",
              "\n",
              "    .colab-df-convert {\n",
              "      background-color: #E8F0FE;\n",
              "      border: none;\n",
              "      border-radius: 50%;\n",
              "      cursor: pointer;\n",
              "      display: none;\n",
              "      fill: #1967D2;\n",
              "      height: 32px;\n",
              "      padding: 0 0 0 0;\n",
              "      width: 32px;\n",
              "    }\n",
              "\n",
              "    .colab-df-convert:hover {\n",
              "      background-color: #E2EBFA;\n",
              "      box-shadow: 0px 1px 2px rgba(60, 64, 67, 0.3), 0px 1px 3px 1px rgba(60, 64, 67, 0.15);\n",
              "      fill: #174EA6;\n",
              "    }\n",
              "\n",
              "    .colab-df-buttons div {\n",
              "      margin-bottom: 4px;\n",
              "    }\n",
              "\n",
              "    [theme=dark] .colab-df-convert {\n",
              "      background-color: #3B4455;\n",
              "      fill: #D2E3FC;\n",
              "    }\n",
              "\n",
              "    [theme=dark] .colab-df-convert:hover {\n",
              "      background-color: #434B5C;\n",
              "      box-shadow: 0px 1px 3px 1px rgba(0, 0, 0, 0.15);\n",
              "      filter: drop-shadow(0px 1px 2px rgba(0, 0, 0, 0.3));\n",
              "      fill: #FFFFFF;\n",
              "    }\n",
              "  </style>\n",
              "\n",
              "    <script>\n",
              "      const buttonEl =\n",
              "        document.querySelector('#df-0ec735c0-c516-43cc-a9e1-2ac09166f39b button.colab-df-convert');\n",
              "      buttonEl.style.display =\n",
              "        google.colab.kernel.accessAllowed ? 'block' : 'none';\n",
              "\n",
              "      async function convertToInteractive(key) {\n",
              "        const element = document.querySelector('#df-0ec735c0-c516-43cc-a9e1-2ac09166f39b');\n",
              "        const dataTable =\n",
              "          await google.colab.kernel.invokeFunction('convertToInteractive',\n",
              "                                                    [key], {});\n",
              "        if (!dataTable) return;\n",
              "\n",
              "        const docLinkHtml = 'Like what you see? Visit the ' +\n",
              "          '<a target=\"_blank\" href=https://colab.research.google.com/notebooks/data_table.ipynb>data table notebook</a>'\n",
              "          + ' to learn more about interactive tables.';\n",
              "        element.innerHTML = '';\n",
              "        dataTable['output_type'] = 'display_data';\n",
              "        await google.colab.output.renderOutput(dataTable, element);\n",
              "        const docLink = document.createElement('div');\n",
              "        docLink.innerHTML = docLinkHtml;\n",
              "        element.appendChild(docLink);\n",
              "      }\n",
              "    </script>\n",
              "  </div>\n",
              "\n",
              "\n",
              "<div id=\"df-5d233e32-6a4c-4892-8652-f66a9ea89ba0\">\n",
              "  <button class=\"colab-df-quickchart\" onclick=\"quickchart('df-5d233e32-6a4c-4892-8652-f66a9ea89ba0')\"\n",
              "            title=\"Suggest charts\"\n",
              "            style=\"display:none;\">\n",
              "\n",
              "<svg xmlns=\"http://www.w3.org/2000/svg\" height=\"24px\"viewBox=\"0 0 24 24\"\n",
              "     width=\"24px\">\n",
              "    <g>\n",
              "        <path d=\"M19 3H5c-1.1 0-2 .9-2 2v14c0 1.1.9 2 2 2h14c1.1 0 2-.9 2-2V5c0-1.1-.9-2-2-2zM9 17H7v-7h2v7zm4 0h-2V7h2v10zm4 0h-2v-4h2v4z\"/>\n",
              "    </g>\n",
              "</svg>\n",
              "  </button>\n",
              "\n",
              "<style>\n",
              "  .colab-df-quickchart {\n",
              "      --bg-color: #E8F0FE;\n",
              "      --fill-color: #1967D2;\n",
              "      --hover-bg-color: #E2EBFA;\n",
              "      --hover-fill-color: #174EA6;\n",
              "      --disabled-fill-color: #AAA;\n",
              "      --disabled-bg-color: #DDD;\n",
              "  }\n",
              "\n",
              "  [theme=dark] .colab-df-quickchart {\n",
              "      --bg-color: #3B4455;\n",
              "      --fill-color: #D2E3FC;\n",
              "      --hover-bg-color: #434B5C;\n",
              "      --hover-fill-color: #FFFFFF;\n",
              "      --disabled-bg-color: #3B4455;\n",
              "      --disabled-fill-color: #666;\n",
              "  }\n",
              "\n",
              "  .colab-df-quickchart {\n",
              "    background-color: var(--bg-color);\n",
              "    border: none;\n",
              "    border-radius: 50%;\n",
              "    cursor: pointer;\n",
              "    display: none;\n",
              "    fill: var(--fill-color);\n",
              "    height: 32px;\n",
              "    padding: 0;\n",
              "    width: 32px;\n",
              "  }\n",
              "\n",
              "  .colab-df-quickchart:hover {\n",
              "    background-color: var(--hover-bg-color);\n",
              "    box-shadow: 0 1px 2px rgba(60, 64, 67, 0.3), 0 1px 3px 1px rgba(60, 64, 67, 0.15);\n",
              "    fill: var(--button-hover-fill-color);\n",
              "  }\n",
              "\n",
              "  .colab-df-quickchart-complete:disabled,\n",
              "  .colab-df-quickchart-complete:disabled:hover {\n",
              "    background-color: var(--disabled-bg-color);\n",
              "    fill: var(--disabled-fill-color);\n",
              "    box-shadow: none;\n",
              "  }\n",
              "\n",
              "  .colab-df-spinner {\n",
              "    border: 2px solid var(--fill-color);\n",
              "    border-color: transparent;\n",
              "    border-bottom-color: var(--fill-color);\n",
              "    animation:\n",
              "      spin 1s steps(1) infinite;\n",
              "  }\n",
              "\n",
              "  @keyframes spin {\n",
              "    0% {\n",
              "      border-color: transparent;\n",
              "      border-bottom-color: var(--fill-color);\n",
              "      border-left-color: var(--fill-color);\n",
              "    }\n",
              "    20% {\n",
              "      border-color: transparent;\n",
              "      border-left-color: var(--fill-color);\n",
              "      border-top-color: var(--fill-color);\n",
              "    }\n",
              "    30% {\n",
              "      border-color: transparent;\n",
              "      border-left-color: var(--fill-color);\n",
              "      border-top-color: var(--fill-color);\n",
              "      border-right-color: var(--fill-color);\n",
              "    }\n",
              "    40% {\n",
              "      border-color: transparent;\n",
              "      border-right-color: var(--fill-color);\n",
              "      border-top-color: var(--fill-color);\n",
              "    }\n",
              "    60% {\n",
              "      border-color: transparent;\n",
              "      border-right-color: var(--fill-color);\n",
              "    }\n",
              "    80% {\n",
              "      border-color: transparent;\n",
              "      border-right-color: var(--fill-color);\n",
              "      border-bottom-color: var(--fill-color);\n",
              "    }\n",
              "    90% {\n",
              "      border-color: transparent;\n",
              "      border-bottom-color: var(--fill-color);\n",
              "    }\n",
              "  }\n",
              "</style>\n",
              "\n",
              "  <script>\n",
              "    async function quickchart(key) {\n",
              "      const quickchartButtonEl =\n",
              "        document.querySelector('#' + key + ' button');\n",
              "      quickchartButtonEl.disabled = true;  // To prevent multiple clicks.\n",
              "      quickchartButtonEl.classList.add('colab-df-spinner');\n",
              "      try {\n",
              "        const charts = await google.colab.kernel.invokeFunction(\n",
              "            'suggestCharts', [key], {});\n",
              "      } catch (error) {\n",
              "        console.error('Error during call to suggestCharts:', error);\n",
              "      }\n",
              "      quickchartButtonEl.classList.remove('colab-df-spinner');\n",
              "      quickchartButtonEl.classList.add('colab-df-quickchart-complete');\n",
              "    }\n",
              "    (() => {\n",
              "      let quickchartButtonEl =\n",
              "        document.querySelector('#df-5d233e32-6a4c-4892-8652-f66a9ea89ba0 button');\n",
              "      quickchartButtonEl.style.display =\n",
              "        google.colab.kernel.accessAllowed ? 'block' : 'none';\n",
              "    })();\n",
              "  </script>\n",
              "</div>\n",
              "\n",
              "    </div>\n",
              "  </div>\n"
            ],
            "application/vnd.google.colaboratory.intrinsic+json": {
              "type": "dataframe",
              "repr_error": "0"
            }
          },
          "metadata": {},
          "execution_count": 73
        }
      ]
    },
    {
      "cell_type": "code",
      "source": [
        "df_encoded = antes_df[['Scroll_Profundidade', 'Cliques', 'Páginas_Visitadas', 'Tempo_Interação', 'Tentativa', 'Páginas_Visitadas', 'Taxa_de_Rejeição']]"
      ],
      "metadata": {
        "id": "Fx0ib_KTvxtw"
      },
      "execution_count": 74,
      "outputs": []
    },
    {
      "cell_type": "code",
      "source": [
        "import plotly.graph_objs as go\n",
        "\n",
        "df_corr = df_encoded.corr()\n",
        "\n",
        "fig = go.Figure()\n",
        "fig.add_trace(\n",
        "    go.Heatmap(\n",
        "        x = df_corr.columns,\n",
        "        y = df_corr.index,\n",
        "        z = np.array(df_corr),\n",
        "        text=df_corr.values,\n",
        "        texttemplate='%{text:.2f}'\n",
        "    )\n",
        ")\n",
        "fig.show()\n",
        ""
      ],
      "metadata": {
        "colab": {
          "base_uri": "https://localhost:8080/",
          "height": 542
        },
        "id": "tG1HAspPsmNy",
        "outputId": "0cd73edd-7a84-42eb-dd0d-29f35d036ccc"
      },
      "execution_count": 75,
      "outputs": [
        {
          "output_type": "display_data",
          "data": {
            "text/html": [
              "<html>\n",
              "<head><meta charset=\"utf-8\" /></head>\n",
              "<body>\n",
              "    <div>            <script src=\"https://cdnjs.cloudflare.com/ajax/libs/mathjax/2.7.5/MathJax.js?config=TeX-AMS-MML_SVG\"></script><script type=\"text/javascript\">if (window.MathJax && window.MathJax.Hub && window.MathJax.Hub.Config) {window.MathJax.Hub.Config({SVG: {font: \"STIX-Web\"}});}</script>                <script type=\"text/javascript\">window.PlotlyConfig = {MathJaxConfig: 'local'};</script>\n",
              "        <script charset=\"utf-8\" src=\"https://cdn.plot.ly/plotly-2.24.1.min.js\"></script>                <div id=\"13a5a2b2-bb98-48a8-a7c1-36f126c856b3\" class=\"plotly-graph-div\" style=\"height:525px; width:100%;\"></div>            <script type=\"text/javascript\">                                    window.PLOTLYENV=window.PLOTLYENV || {};                                    if (document.getElementById(\"13a5a2b2-bb98-48a8-a7c1-36f126c856b3\")) {                    Plotly.newPlot(                        \"13a5a2b2-bb98-48a8-a7c1-36f126c856b3\",                        [{\"text\":[[1.0,-0.029708585526409884,-0.009919681515100628,-0.04358769245625586,0.017182975486433487,-0.009919681515100628,0.006293729605789255],[-0.029708585526409884,1.0,0.019398814904523935,0.020506077107734496,-0.032883525947895176,0.019398814904523935,0.04098732784631063],[-0.009919681515100628,0.019398814904523935,1.0,0.05082472502134471,0.01744645975211769,1.0,-0.04019984054223876],[-0.04358769245625586,0.020506077107734496,0.05082472502134471,1.0,0.03555761084246241,0.05082472502134473,0.012394845356756314],[0.017182975486433487,-0.032883525947895176,0.01744645975211769,0.03555761084246241,1.0,0.017446459752117675,0.025997408959026178],[-0.009919681515100628,0.019398814904523935,1.0,0.05082472502134473,0.017446459752117675,1.0,-0.04019984054223876],[0.006293729605789255,0.04098732784631063,-0.04019984054223876,0.012394845356756314,0.025997408959026178,-0.04019984054223876,1.0]],\"texttemplate\":\"%{text:.2f}\",\"x\":[\"Scroll_Profundidade\",\"Cliques\",\"P\\u00e1ginas_Visitadas\",\"Tempo_Intera\\u00e7\\u00e3o\",\"Tentativa\",\"P\\u00e1ginas_Visitadas\",\"Taxa_de_Rejei\\u00e7\\u00e3o\"],\"y\":[\"Scroll_Profundidade\",\"Cliques\",\"P\\u00e1ginas_Visitadas\",\"Tempo_Intera\\u00e7\\u00e3o\",\"Tentativa\",\"P\\u00e1ginas_Visitadas\",\"Taxa_de_Rejei\\u00e7\\u00e3o\"],\"z\":[[1.0,-0.029708585526409884,-0.009919681515100628,-0.04358769245625586,0.017182975486433487,-0.009919681515100628,0.006293729605789255],[-0.029708585526409884,1.0,0.019398814904523935,0.020506077107734496,-0.032883525947895176,0.019398814904523935,0.04098732784631063],[-0.009919681515100628,0.019398814904523935,1.0,0.05082472502134471,0.01744645975211769,1.0,-0.04019984054223876],[-0.04358769245625586,0.020506077107734496,0.05082472502134471,1.0,0.03555761084246241,0.05082472502134473,0.012394845356756314],[0.017182975486433487,-0.032883525947895176,0.01744645975211769,0.03555761084246241,1.0,0.017446459752117675,0.025997408959026178],[-0.009919681515100628,0.019398814904523935,1.0,0.05082472502134473,0.017446459752117675,1.0,-0.04019984054223876],[0.006293729605789255,0.04098732784631063,-0.04019984054223876,0.012394845356756314,0.025997408959026178,-0.04019984054223876,1.0]],\"type\":\"heatmap\"}],                        {\"template\":{\"data\":{\"histogram2dcontour\":[{\"type\":\"histogram2dcontour\",\"colorbar\":{\"outlinewidth\":0,\"ticks\":\"\"},\"colorscale\":[[0.0,\"#0d0887\"],[0.1111111111111111,\"#46039f\"],[0.2222222222222222,\"#7201a8\"],[0.3333333333333333,\"#9c179e\"],[0.4444444444444444,\"#bd3786\"],[0.5555555555555556,\"#d8576b\"],[0.6666666666666666,\"#ed7953\"],[0.7777777777777778,\"#fb9f3a\"],[0.8888888888888888,\"#fdca26\"],[1.0,\"#f0f921\"]]}],\"choropleth\":[{\"type\":\"choropleth\",\"colorbar\":{\"outlinewidth\":0,\"ticks\":\"\"}}],\"histogram2d\":[{\"type\":\"histogram2d\",\"colorbar\":{\"outlinewidth\":0,\"ticks\":\"\"},\"colorscale\":[[0.0,\"#0d0887\"],[0.1111111111111111,\"#46039f\"],[0.2222222222222222,\"#7201a8\"],[0.3333333333333333,\"#9c179e\"],[0.4444444444444444,\"#bd3786\"],[0.5555555555555556,\"#d8576b\"],[0.6666666666666666,\"#ed7953\"],[0.7777777777777778,\"#fb9f3a\"],[0.8888888888888888,\"#fdca26\"],[1.0,\"#f0f921\"]]}],\"heatmap\":[{\"type\":\"heatmap\",\"colorbar\":{\"outlinewidth\":0,\"ticks\":\"\"},\"colorscale\":[[0.0,\"#0d0887\"],[0.1111111111111111,\"#46039f\"],[0.2222222222222222,\"#7201a8\"],[0.3333333333333333,\"#9c179e\"],[0.4444444444444444,\"#bd3786\"],[0.5555555555555556,\"#d8576b\"],[0.6666666666666666,\"#ed7953\"],[0.7777777777777778,\"#fb9f3a\"],[0.8888888888888888,\"#fdca26\"],[1.0,\"#f0f921\"]]}],\"heatmapgl\":[{\"type\":\"heatmapgl\",\"colorbar\":{\"outlinewidth\":0,\"ticks\":\"\"},\"colorscale\":[[0.0,\"#0d0887\"],[0.1111111111111111,\"#46039f\"],[0.2222222222222222,\"#7201a8\"],[0.3333333333333333,\"#9c179e\"],[0.4444444444444444,\"#bd3786\"],[0.5555555555555556,\"#d8576b\"],[0.6666666666666666,\"#ed7953\"],[0.7777777777777778,\"#fb9f3a\"],[0.8888888888888888,\"#fdca26\"],[1.0,\"#f0f921\"]]}],\"contourcarpet\":[{\"type\":\"contourcarpet\",\"colorbar\":{\"outlinewidth\":0,\"ticks\":\"\"}}],\"contour\":[{\"type\":\"contour\",\"colorbar\":{\"outlinewidth\":0,\"ticks\":\"\"},\"colorscale\":[[0.0,\"#0d0887\"],[0.1111111111111111,\"#46039f\"],[0.2222222222222222,\"#7201a8\"],[0.3333333333333333,\"#9c179e\"],[0.4444444444444444,\"#bd3786\"],[0.5555555555555556,\"#d8576b\"],[0.6666666666666666,\"#ed7953\"],[0.7777777777777778,\"#fb9f3a\"],[0.8888888888888888,\"#fdca26\"],[1.0,\"#f0f921\"]]}],\"surface\":[{\"type\":\"surface\",\"colorbar\":{\"outlinewidth\":0,\"ticks\":\"\"},\"colorscale\":[[0.0,\"#0d0887\"],[0.1111111111111111,\"#46039f\"],[0.2222222222222222,\"#7201a8\"],[0.3333333333333333,\"#9c179e\"],[0.4444444444444444,\"#bd3786\"],[0.5555555555555556,\"#d8576b\"],[0.6666666666666666,\"#ed7953\"],[0.7777777777777778,\"#fb9f3a\"],[0.8888888888888888,\"#fdca26\"],[1.0,\"#f0f921\"]]}],\"mesh3d\":[{\"type\":\"mesh3d\",\"colorbar\":{\"outlinewidth\":0,\"ticks\":\"\"}}],\"scatter\":[{\"fillpattern\":{\"fillmode\":\"overlay\",\"size\":10,\"solidity\":0.2},\"type\":\"scatter\"}],\"parcoords\":[{\"type\":\"parcoords\",\"line\":{\"colorbar\":{\"outlinewidth\":0,\"ticks\":\"\"}}}],\"scatterpolargl\":[{\"type\":\"scatterpolargl\",\"marker\":{\"colorbar\":{\"outlinewidth\":0,\"ticks\":\"\"}}}],\"bar\":[{\"error_x\":{\"color\":\"#2a3f5f\"},\"error_y\":{\"color\":\"#2a3f5f\"},\"marker\":{\"line\":{\"color\":\"#E5ECF6\",\"width\":0.5},\"pattern\":{\"fillmode\":\"overlay\",\"size\":10,\"solidity\":0.2}},\"type\":\"bar\"}],\"scattergeo\":[{\"type\":\"scattergeo\",\"marker\":{\"colorbar\":{\"outlinewidth\":0,\"ticks\":\"\"}}}],\"scatterpolar\":[{\"type\":\"scatterpolar\",\"marker\":{\"colorbar\":{\"outlinewidth\":0,\"ticks\":\"\"}}}],\"histogram\":[{\"marker\":{\"pattern\":{\"fillmode\":\"overlay\",\"size\":10,\"solidity\":0.2}},\"type\":\"histogram\"}],\"scattergl\":[{\"type\":\"scattergl\",\"marker\":{\"colorbar\":{\"outlinewidth\":0,\"ticks\":\"\"}}}],\"scatter3d\":[{\"type\":\"scatter3d\",\"line\":{\"colorbar\":{\"outlinewidth\":0,\"ticks\":\"\"}},\"marker\":{\"colorbar\":{\"outlinewidth\":0,\"ticks\":\"\"}}}],\"scattermapbox\":[{\"type\":\"scattermapbox\",\"marker\":{\"colorbar\":{\"outlinewidth\":0,\"ticks\":\"\"}}}],\"scatterternary\":[{\"type\":\"scatterternary\",\"marker\":{\"colorbar\":{\"outlinewidth\":0,\"ticks\":\"\"}}}],\"scattercarpet\":[{\"type\":\"scattercarpet\",\"marker\":{\"colorbar\":{\"outlinewidth\":0,\"ticks\":\"\"}}}],\"carpet\":[{\"aaxis\":{\"endlinecolor\":\"#2a3f5f\",\"gridcolor\":\"white\",\"linecolor\":\"white\",\"minorgridcolor\":\"white\",\"startlinecolor\":\"#2a3f5f\"},\"baxis\":{\"endlinecolor\":\"#2a3f5f\",\"gridcolor\":\"white\",\"linecolor\":\"white\",\"minorgridcolor\":\"white\",\"startlinecolor\":\"#2a3f5f\"},\"type\":\"carpet\"}],\"table\":[{\"cells\":{\"fill\":{\"color\":\"#EBF0F8\"},\"line\":{\"color\":\"white\"}},\"header\":{\"fill\":{\"color\":\"#C8D4E3\"},\"line\":{\"color\":\"white\"}},\"type\":\"table\"}],\"barpolar\":[{\"marker\":{\"line\":{\"color\":\"#E5ECF6\",\"width\":0.5},\"pattern\":{\"fillmode\":\"overlay\",\"size\":10,\"solidity\":0.2}},\"type\":\"barpolar\"}],\"pie\":[{\"automargin\":true,\"type\":\"pie\"}]},\"layout\":{\"autotypenumbers\":\"strict\",\"colorway\":[\"#636efa\",\"#EF553B\",\"#00cc96\",\"#ab63fa\",\"#FFA15A\",\"#19d3f3\",\"#FF6692\",\"#B6E880\",\"#FF97FF\",\"#FECB52\"],\"font\":{\"color\":\"#2a3f5f\"},\"hovermode\":\"closest\",\"hoverlabel\":{\"align\":\"left\"},\"paper_bgcolor\":\"white\",\"plot_bgcolor\":\"#E5ECF6\",\"polar\":{\"bgcolor\":\"#E5ECF6\",\"angularaxis\":{\"gridcolor\":\"white\",\"linecolor\":\"white\",\"ticks\":\"\"},\"radialaxis\":{\"gridcolor\":\"white\",\"linecolor\":\"white\",\"ticks\":\"\"}},\"ternary\":{\"bgcolor\":\"#E5ECF6\",\"aaxis\":{\"gridcolor\":\"white\",\"linecolor\":\"white\",\"ticks\":\"\"},\"baxis\":{\"gridcolor\":\"white\",\"linecolor\":\"white\",\"ticks\":\"\"},\"caxis\":{\"gridcolor\":\"white\",\"linecolor\":\"white\",\"ticks\":\"\"}},\"coloraxis\":{\"colorbar\":{\"outlinewidth\":0,\"ticks\":\"\"}},\"colorscale\":{\"sequential\":[[0.0,\"#0d0887\"],[0.1111111111111111,\"#46039f\"],[0.2222222222222222,\"#7201a8\"],[0.3333333333333333,\"#9c179e\"],[0.4444444444444444,\"#bd3786\"],[0.5555555555555556,\"#d8576b\"],[0.6666666666666666,\"#ed7953\"],[0.7777777777777778,\"#fb9f3a\"],[0.8888888888888888,\"#fdca26\"],[1.0,\"#f0f921\"]],\"sequentialminus\":[[0.0,\"#0d0887\"],[0.1111111111111111,\"#46039f\"],[0.2222222222222222,\"#7201a8\"],[0.3333333333333333,\"#9c179e\"],[0.4444444444444444,\"#bd3786\"],[0.5555555555555556,\"#d8576b\"],[0.6666666666666666,\"#ed7953\"],[0.7777777777777778,\"#fb9f3a\"],[0.8888888888888888,\"#fdca26\"],[1.0,\"#f0f921\"]],\"diverging\":[[0,\"#8e0152\"],[0.1,\"#c51b7d\"],[0.2,\"#de77ae\"],[0.3,\"#f1b6da\"],[0.4,\"#fde0ef\"],[0.5,\"#f7f7f7\"],[0.6,\"#e6f5d0\"],[0.7,\"#b8e186\"],[0.8,\"#7fbc41\"],[0.9,\"#4d9221\"],[1,\"#276419\"]]},\"xaxis\":{\"gridcolor\":\"white\",\"linecolor\":\"white\",\"ticks\":\"\",\"title\":{\"standoff\":15},\"zerolinecolor\":\"white\",\"automargin\":true,\"zerolinewidth\":2},\"yaxis\":{\"gridcolor\":\"white\",\"linecolor\":\"white\",\"ticks\":\"\",\"title\":{\"standoff\":15},\"zerolinecolor\":\"white\",\"automargin\":true,\"zerolinewidth\":2},\"scene\":{\"xaxis\":{\"backgroundcolor\":\"#E5ECF6\",\"gridcolor\":\"white\",\"linecolor\":\"white\",\"showbackground\":true,\"ticks\":\"\",\"zerolinecolor\":\"white\",\"gridwidth\":2},\"yaxis\":{\"backgroundcolor\":\"#E5ECF6\",\"gridcolor\":\"white\",\"linecolor\":\"white\",\"showbackground\":true,\"ticks\":\"\",\"zerolinecolor\":\"white\",\"gridwidth\":2},\"zaxis\":{\"backgroundcolor\":\"#E5ECF6\",\"gridcolor\":\"white\",\"linecolor\":\"white\",\"showbackground\":true,\"ticks\":\"\",\"zerolinecolor\":\"white\",\"gridwidth\":2}},\"shapedefaults\":{\"line\":{\"color\":\"#2a3f5f\"}},\"annotationdefaults\":{\"arrowcolor\":\"#2a3f5f\",\"arrowhead\":0,\"arrowwidth\":1},\"geo\":{\"bgcolor\":\"white\",\"landcolor\":\"#E5ECF6\",\"subunitcolor\":\"white\",\"showland\":true,\"showlakes\":true,\"lakecolor\":\"white\"},\"title\":{\"x\":0.05},\"mapbox\":{\"style\":\"light\"}}}},                        {\"responsive\": true}                    ).then(function(){\n",
              "                            \n",
              "var gd = document.getElementById('13a5a2b2-bb98-48a8-a7c1-36f126c856b3');\n",
              "var x = new MutationObserver(function (mutations, observer) {{\n",
              "        var display = window.getComputedStyle(gd).display;\n",
              "        if (!display || display === 'none') {{\n",
              "            console.log([gd, 'removed!']);\n",
              "            Plotly.purge(gd);\n",
              "            observer.disconnect();\n",
              "        }}\n",
              "}});\n",
              "\n",
              "// Listen for the removal of the full notebook cells\n",
              "var notebookContainer = gd.closest('#notebook-container');\n",
              "if (notebookContainer) {{\n",
              "    x.observe(notebookContainer, {childList: true});\n",
              "}}\n",
              "\n",
              "// Listen for the clearing of the current output cell\n",
              "var outputEl = gd.closest('.output');\n",
              "if (outputEl) {{\n",
              "    x.observe(outputEl, {childList: true});\n",
              "}}\n",
              "\n",
              "                        })                };                            </script>        </div>\n",
              "</body>\n",
              "</html>"
            ]
          },
          "metadata": {}
        }
      ]
    },
    {
      "cell_type": "markdown",
      "source": [
        "### Durante o Teste A/B"
      ],
      "metadata": {
        "id": "taK0J8dIMwMv"
      }
    },
    {
      "cell_type": "markdown",
      "source": [
        "Suponha que um teste A/B rodou no período de 01/05/2024 a 31/05/2024. Os dados podem ser obtidos a seguir."
      ],
      "metadata": {
        "id": "8E9nfj64M0DE"
      }
    },
    {
      "cell_type": "code",
      "source": [
        "# Importação dos dados do Analytics (Durante o teste A/B)\n",
        "\n",
        "# Grupo A\n",
        "# https://drive.google.com/file/d/15JWvA9bHaGkT0NxCwIxQV1Z1q6p7WAjt/view?usp=sharing\n",
        "!gdown 15JWvA9bHaGkT0NxCwIxQV1Z1q6p7WAjt\n",
        "\n",
        "# Grupo B\n",
        "# https://drive.google.com/file/d/12mGIbg-J5YioNB1WffoMIEHv4arcQZcc/view?usp=drive_link\n",
        "!gdown 12mGIbg-J5YioNB1WffoMIEHv4arcQZcc"
      ],
      "metadata": {
        "colab": {
          "base_uri": "https://localhost:8080/"
        },
        "id": "-b3IjpZ5Njta",
        "outputId": "147df106-913f-4c9b-dbf5-e6cd2afe557e"
      },
      "execution_count": 76,
      "outputs": [
        {
          "output_type": "stream",
          "name": "stdout",
          "text": [
            "Downloading...\n",
            "From: https://drive.google.com/uc?id=15JWvA9bHaGkT0NxCwIxQV1Z1q6p7WAjt\n",
            "To: /content/ITL-SI10-2024-P2-analytics-durante-grupo-A.csv\n",
            "100% 148k/148k [00:00<00:00, 5.92MB/s]\n",
            "Downloading...\n",
            "From: https://drive.google.com/uc?id=12mGIbg-J5YioNB1WffoMIEHv4arcQZcc\n",
            "To: /content/ITL-SI10-2024-P2-analytics-durante-grupo-B.csv\n",
            "100% 74.1k/74.1k [00:00<00:00, 5.15MB/s]\n"
          ]
        }
      ]
    },
    {
      "cell_type": "code",
      "source": [
        "# Faz a leitura do analytics para o grupo controle (A) e o grupo de teste (B)\n",
        "grupo_a_df = pd.read_csv('/content/ITL-SI10-2024-P2-analytics-durante-grupo-A.csv')\n",
        "grupo_a_df.head()"
      ],
      "metadata": {
        "colab": {
          "base_uri": "https://localhost:8080/",
          "height": 313
        },
        "id": "eRTd6t_TWm03",
        "outputId": "38090fd6-d325-4a67-c323-e0b4c83d528c"
      },
      "execution_count": 77,
      "outputs": [
        {
          "output_type": "execute_result",
          "data": {
            "text/plain": [
              "         Data      Hora  Usuário_ID  Tentativa           Resultado  \\\n",
              "0  2024-05-01  08:04:01        1097          1             sucesso   \n",
              "1  2024-05-01  14:24:43        1141          2             sucesso   \n",
              "2  2024-05-01  00:43:22        1230          1  erro no formulário   \n",
              "3  2024-05-01  23:14:29        1334          2             sucesso   \n",
              "4  2024-05-01  15:14:54        1274          2             sucesso   \n",
              "\n",
              "   Tempo_na_Página  Páginas_Visitadas  Tempo_Carregamento  \\\n",
              "0              127                 13                1774   \n",
              "1              123                 11                2415   \n",
              "2               98                 16                1944   \n",
              "3              166                 18                1741   \n",
              "4              132                 19                1717   \n",
              "\n",
              "   Scroll_Profundidade  Cliques  Tempo_Interação  Taxa_de_Rejeição Abandono  \\\n",
              "0            93.316351       10               67         93.198502      não   \n",
              "1            75.686670       12               56         77.476421      não   \n",
              "2            40.575390       24               78         99.195637      sim   \n",
              "3            78.294204       15               46         36.084993      não   \n",
              "4            73.383012        4               63         45.207657      não   \n",
              "\n",
              "    Mensagem_de_Erro Navegador Dispositivo              IP         Localização  \n",
              "0                NaN   Firefox     desktop    2.55.166.224        Campinas, BR  \n",
              "1                NaN    Chrome     celular   77.173.186.31        Campinas, BR  \n",
              "2  Campo obrigatório      Edge     celular  32.109.171.225  Rio de Janeiro, BR  \n",
              "3                NaN      Edge     celular     27.46.96.75       São Paulo, BR  \n",
              "4                NaN    Chrome      tablet  139.207.255.96       São Paulo, BR  "
            ],
            "text/html": [
              "\n",
              "  <div id=\"df-5e36f6ab-7aea-46b4-8faa-cea08b4232d2\" class=\"colab-df-container\">\n",
              "    <div>\n",
              "<style scoped>\n",
              "    .dataframe tbody tr th:only-of-type {\n",
              "        vertical-align: middle;\n",
              "    }\n",
              "\n",
              "    .dataframe tbody tr th {\n",
              "        vertical-align: top;\n",
              "    }\n",
              "\n",
              "    .dataframe thead th {\n",
              "        text-align: right;\n",
              "    }\n",
              "</style>\n",
              "<table border=\"1\" class=\"dataframe\">\n",
              "  <thead>\n",
              "    <tr style=\"text-align: right;\">\n",
              "      <th></th>\n",
              "      <th>Data</th>\n",
              "      <th>Hora</th>\n",
              "      <th>Usuário_ID</th>\n",
              "      <th>Tentativa</th>\n",
              "      <th>Resultado</th>\n",
              "      <th>Tempo_na_Página</th>\n",
              "      <th>Páginas_Visitadas</th>\n",
              "      <th>Tempo_Carregamento</th>\n",
              "      <th>Scroll_Profundidade</th>\n",
              "      <th>Cliques</th>\n",
              "      <th>Tempo_Interação</th>\n",
              "      <th>Taxa_de_Rejeição</th>\n",
              "      <th>Abandono</th>\n",
              "      <th>Mensagem_de_Erro</th>\n",
              "      <th>Navegador</th>\n",
              "      <th>Dispositivo</th>\n",
              "      <th>IP</th>\n",
              "      <th>Localização</th>\n",
              "    </tr>\n",
              "  </thead>\n",
              "  <tbody>\n",
              "    <tr>\n",
              "      <th>0</th>\n",
              "      <td>2024-05-01</td>\n",
              "      <td>08:04:01</td>\n",
              "      <td>1097</td>\n",
              "      <td>1</td>\n",
              "      <td>sucesso</td>\n",
              "      <td>127</td>\n",
              "      <td>13</td>\n",
              "      <td>1774</td>\n",
              "      <td>93.316351</td>\n",
              "      <td>10</td>\n",
              "      <td>67</td>\n",
              "      <td>93.198502</td>\n",
              "      <td>não</td>\n",
              "      <td>NaN</td>\n",
              "      <td>Firefox</td>\n",
              "      <td>desktop</td>\n",
              "      <td>2.55.166.224</td>\n",
              "      <td>Campinas, BR</td>\n",
              "    </tr>\n",
              "    <tr>\n",
              "      <th>1</th>\n",
              "      <td>2024-05-01</td>\n",
              "      <td>14:24:43</td>\n",
              "      <td>1141</td>\n",
              "      <td>2</td>\n",
              "      <td>sucesso</td>\n",
              "      <td>123</td>\n",
              "      <td>11</td>\n",
              "      <td>2415</td>\n",
              "      <td>75.686670</td>\n",
              "      <td>12</td>\n",
              "      <td>56</td>\n",
              "      <td>77.476421</td>\n",
              "      <td>não</td>\n",
              "      <td>NaN</td>\n",
              "      <td>Chrome</td>\n",
              "      <td>celular</td>\n",
              "      <td>77.173.186.31</td>\n",
              "      <td>Campinas, BR</td>\n",
              "    </tr>\n",
              "    <tr>\n",
              "      <th>2</th>\n",
              "      <td>2024-05-01</td>\n",
              "      <td>00:43:22</td>\n",
              "      <td>1230</td>\n",
              "      <td>1</td>\n",
              "      <td>erro no formulário</td>\n",
              "      <td>98</td>\n",
              "      <td>16</td>\n",
              "      <td>1944</td>\n",
              "      <td>40.575390</td>\n",
              "      <td>24</td>\n",
              "      <td>78</td>\n",
              "      <td>99.195637</td>\n",
              "      <td>sim</td>\n",
              "      <td>Campo obrigatório</td>\n",
              "      <td>Edge</td>\n",
              "      <td>celular</td>\n",
              "      <td>32.109.171.225</td>\n",
              "      <td>Rio de Janeiro, BR</td>\n",
              "    </tr>\n",
              "    <tr>\n",
              "      <th>3</th>\n",
              "      <td>2024-05-01</td>\n",
              "      <td>23:14:29</td>\n",
              "      <td>1334</td>\n",
              "      <td>2</td>\n",
              "      <td>sucesso</td>\n",
              "      <td>166</td>\n",
              "      <td>18</td>\n",
              "      <td>1741</td>\n",
              "      <td>78.294204</td>\n",
              "      <td>15</td>\n",
              "      <td>46</td>\n",
              "      <td>36.084993</td>\n",
              "      <td>não</td>\n",
              "      <td>NaN</td>\n",
              "      <td>Edge</td>\n",
              "      <td>celular</td>\n",
              "      <td>27.46.96.75</td>\n",
              "      <td>São Paulo, BR</td>\n",
              "    </tr>\n",
              "    <tr>\n",
              "      <th>4</th>\n",
              "      <td>2024-05-01</td>\n",
              "      <td>15:14:54</td>\n",
              "      <td>1274</td>\n",
              "      <td>2</td>\n",
              "      <td>sucesso</td>\n",
              "      <td>132</td>\n",
              "      <td>19</td>\n",
              "      <td>1717</td>\n",
              "      <td>73.383012</td>\n",
              "      <td>4</td>\n",
              "      <td>63</td>\n",
              "      <td>45.207657</td>\n",
              "      <td>não</td>\n",
              "      <td>NaN</td>\n",
              "      <td>Chrome</td>\n",
              "      <td>tablet</td>\n",
              "      <td>139.207.255.96</td>\n",
              "      <td>São Paulo, BR</td>\n",
              "    </tr>\n",
              "  </tbody>\n",
              "</table>\n",
              "</div>\n",
              "    <div class=\"colab-df-buttons\">\n",
              "\n",
              "  <div class=\"colab-df-container\">\n",
              "    <button class=\"colab-df-convert\" onclick=\"convertToInteractive('df-5e36f6ab-7aea-46b4-8faa-cea08b4232d2')\"\n",
              "            title=\"Convert this dataframe to an interactive table.\"\n",
              "            style=\"display:none;\">\n",
              "\n",
              "  <svg xmlns=\"http://www.w3.org/2000/svg\" height=\"24px\" viewBox=\"0 -960 960 960\">\n",
              "    <path d=\"M120-120v-720h720v720H120Zm60-500h600v-160H180v160Zm220 220h160v-160H400v160Zm0 220h160v-160H400v160ZM180-400h160v-160H180v160Zm440 0h160v-160H620v160ZM180-180h160v-160H180v160Zm440 0h160v-160H620v160Z\"/>\n",
              "  </svg>\n",
              "    </button>\n",
              "\n",
              "  <style>\n",
              "    .colab-df-container {\n",
              "      display:flex;\n",
              "      gap: 12px;\n",
              "    }\n",
              "\n",
              "    .colab-df-convert {\n",
              "      background-color: #E8F0FE;\n",
              "      border: none;\n",
              "      border-radius: 50%;\n",
              "      cursor: pointer;\n",
              "      display: none;\n",
              "      fill: #1967D2;\n",
              "      height: 32px;\n",
              "      padding: 0 0 0 0;\n",
              "      width: 32px;\n",
              "    }\n",
              "\n",
              "    .colab-df-convert:hover {\n",
              "      background-color: #E2EBFA;\n",
              "      box-shadow: 0px 1px 2px rgba(60, 64, 67, 0.3), 0px 1px 3px 1px rgba(60, 64, 67, 0.15);\n",
              "      fill: #174EA6;\n",
              "    }\n",
              "\n",
              "    .colab-df-buttons div {\n",
              "      margin-bottom: 4px;\n",
              "    }\n",
              "\n",
              "    [theme=dark] .colab-df-convert {\n",
              "      background-color: #3B4455;\n",
              "      fill: #D2E3FC;\n",
              "    }\n",
              "\n",
              "    [theme=dark] .colab-df-convert:hover {\n",
              "      background-color: #434B5C;\n",
              "      box-shadow: 0px 1px 3px 1px rgba(0, 0, 0, 0.15);\n",
              "      filter: drop-shadow(0px 1px 2px rgba(0, 0, 0, 0.3));\n",
              "      fill: #FFFFFF;\n",
              "    }\n",
              "  </style>\n",
              "\n",
              "    <script>\n",
              "      const buttonEl =\n",
              "        document.querySelector('#df-5e36f6ab-7aea-46b4-8faa-cea08b4232d2 button.colab-df-convert');\n",
              "      buttonEl.style.display =\n",
              "        google.colab.kernel.accessAllowed ? 'block' : 'none';\n",
              "\n",
              "      async function convertToInteractive(key) {\n",
              "        const element = document.querySelector('#df-5e36f6ab-7aea-46b4-8faa-cea08b4232d2');\n",
              "        const dataTable =\n",
              "          await google.colab.kernel.invokeFunction('convertToInteractive',\n",
              "                                                    [key], {});\n",
              "        if (!dataTable) return;\n",
              "\n",
              "        const docLinkHtml = 'Like what you see? Visit the ' +\n",
              "          '<a target=\"_blank\" href=https://colab.research.google.com/notebooks/data_table.ipynb>data table notebook</a>'\n",
              "          + ' to learn more about interactive tables.';\n",
              "        element.innerHTML = '';\n",
              "        dataTable['output_type'] = 'display_data';\n",
              "        await google.colab.output.renderOutput(dataTable, element);\n",
              "        const docLink = document.createElement('div');\n",
              "        docLink.innerHTML = docLinkHtml;\n",
              "        element.appendChild(docLink);\n",
              "      }\n",
              "    </script>\n",
              "  </div>\n",
              "\n",
              "\n",
              "<div id=\"df-e7b00558-9383-49c4-bcce-6d0a3eaed3aa\">\n",
              "  <button class=\"colab-df-quickchart\" onclick=\"quickchart('df-e7b00558-9383-49c4-bcce-6d0a3eaed3aa')\"\n",
              "            title=\"Suggest charts\"\n",
              "            style=\"display:none;\">\n",
              "\n",
              "<svg xmlns=\"http://www.w3.org/2000/svg\" height=\"24px\"viewBox=\"0 0 24 24\"\n",
              "     width=\"24px\">\n",
              "    <g>\n",
              "        <path d=\"M19 3H5c-1.1 0-2 .9-2 2v14c0 1.1.9 2 2 2h14c1.1 0 2-.9 2-2V5c0-1.1-.9-2-2-2zM9 17H7v-7h2v7zm4 0h-2V7h2v10zm4 0h-2v-4h2v4z\"/>\n",
              "    </g>\n",
              "</svg>\n",
              "  </button>\n",
              "\n",
              "<style>\n",
              "  .colab-df-quickchart {\n",
              "      --bg-color: #E8F0FE;\n",
              "      --fill-color: #1967D2;\n",
              "      --hover-bg-color: #E2EBFA;\n",
              "      --hover-fill-color: #174EA6;\n",
              "      --disabled-fill-color: #AAA;\n",
              "      --disabled-bg-color: #DDD;\n",
              "  }\n",
              "\n",
              "  [theme=dark] .colab-df-quickchart {\n",
              "      --bg-color: #3B4455;\n",
              "      --fill-color: #D2E3FC;\n",
              "      --hover-bg-color: #434B5C;\n",
              "      --hover-fill-color: #FFFFFF;\n",
              "      --disabled-bg-color: #3B4455;\n",
              "      --disabled-fill-color: #666;\n",
              "  }\n",
              "\n",
              "  .colab-df-quickchart {\n",
              "    background-color: var(--bg-color);\n",
              "    border: none;\n",
              "    border-radius: 50%;\n",
              "    cursor: pointer;\n",
              "    display: none;\n",
              "    fill: var(--fill-color);\n",
              "    height: 32px;\n",
              "    padding: 0;\n",
              "    width: 32px;\n",
              "  }\n",
              "\n",
              "  .colab-df-quickchart:hover {\n",
              "    background-color: var(--hover-bg-color);\n",
              "    box-shadow: 0 1px 2px rgba(60, 64, 67, 0.3), 0 1px 3px 1px rgba(60, 64, 67, 0.15);\n",
              "    fill: var(--button-hover-fill-color);\n",
              "  }\n",
              "\n",
              "  .colab-df-quickchart-complete:disabled,\n",
              "  .colab-df-quickchart-complete:disabled:hover {\n",
              "    background-color: var(--disabled-bg-color);\n",
              "    fill: var(--disabled-fill-color);\n",
              "    box-shadow: none;\n",
              "  }\n",
              "\n",
              "  .colab-df-spinner {\n",
              "    border: 2px solid var(--fill-color);\n",
              "    border-color: transparent;\n",
              "    border-bottom-color: var(--fill-color);\n",
              "    animation:\n",
              "      spin 1s steps(1) infinite;\n",
              "  }\n",
              "\n",
              "  @keyframes spin {\n",
              "    0% {\n",
              "      border-color: transparent;\n",
              "      border-bottom-color: var(--fill-color);\n",
              "      border-left-color: var(--fill-color);\n",
              "    }\n",
              "    20% {\n",
              "      border-color: transparent;\n",
              "      border-left-color: var(--fill-color);\n",
              "      border-top-color: var(--fill-color);\n",
              "    }\n",
              "    30% {\n",
              "      border-color: transparent;\n",
              "      border-left-color: var(--fill-color);\n",
              "      border-top-color: var(--fill-color);\n",
              "      border-right-color: var(--fill-color);\n",
              "    }\n",
              "    40% {\n",
              "      border-color: transparent;\n",
              "      border-right-color: var(--fill-color);\n",
              "      border-top-color: var(--fill-color);\n",
              "    }\n",
              "    60% {\n",
              "      border-color: transparent;\n",
              "      border-right-color: var(--fill-color);\n",
              "    }\n",
              "    80% {\n",
              "      border-color: transparent;\n",
              "      border-right-color: var(--fill-color);\n",
              "      border-bottom-color: var(--fill-color);\n",
              "    }\n",
              "    90% {\n",
              "      border-color: transparent;\n",
              "      border-bottom-color: var(--fill-color);\n",
              "    }\n",
              "  }\n",
              "</style>\n",
              "\n",
              "  <script>\n",
              "    async function quickchart(key) {\n",
              "      const quickchartButtonEl =\n",
              "        document.querySelector('#' + key + ' button');\n",
              "      quickchartButtonEl.disabled = true;  // To prevent multiple clicks.\n",
              "      quickchartButtonEl.classList.add('colab-df-spinner');\n",
              "      try {\n",
              "        const charts = await google.colab.kernel.invokeFunction(\n",
              "            'suggestCharts', [key], {});\n",
              "      } catch (error) {\n",
              "        console.error('Error during call to suggestCharts:', error);\n",
              "      }\n",
              "      quickchartButtonEl.classList.remove('colab-df-spinner');\n",
              "      quickchartButtonEl.classList.add('colab-df-quickchart-complete');\n",
              "    }\n",
              "    (() => {\n",
              "      let quickchartButtonEl =\n",
              "        document.querySelector('#df-e7b00558-9383-49c4-bcce-6d0a3eaed3aa button');\n",
              "      quickchartButtonEl.style.display =\n",
              "        google.colab.kernel.accessAllowed ? 'block' : 'none';\n",
              "    })();\n",
              "  </script>\n",
              "</div>\n",
              "\n",
              "    </div>\n",
              "  </div>\n"
            ],
            "application/vnd.google.colaboratory.intrinsic+json": {
              "type": "dataframe",
              "variable_name": "grupo_a_df",
              "summary": "{\n  \"name\": \"grupo_a_df\",\n  \"rows\": 1000,\n  \"fields\": [\n    {\n      \"column\": \"Data\",\n      \"properties\": {\n        \"dtype\": \"object\",\n        \"num_unique_values\": 30,\n        \"samples\": [\n          \"2024-05-28\",\n          \"2024-05-16\",\n          \"2024-05-24\"\n        ],\n        \"semantic_type\": \"\",\n        \"description\": \"\"\n      }\n    },\n    {\n      \"column\": \"Hora\",\n      \"properties\": {\n        \"dtype\": \"object\",\n        \"num_unique_values\": 990,\n        \"samples\": [\n          \"15:44:22\",\n          \"12:49:00\",\n          \"22:15:00\"\n        ],\n        \"semantic_type\": \"\",\n        \"description\": \"\"\n      }\n    },\n    {\n      \"column\": \"Usu\\u00e1rio_ID\",\n      \"properties\": {\n        \"dtype\": \"number\",\n        \"std\": 138,\n        \"min\": 1000,\n        \"max\": 1499,\n        \"num_unique_values\": 433,\n        \"samples\": [\n          1164,\n          1388,\n          1021\n        ],\n        \"semantic_type\": \"\",\n        \"description\": \"\"\n      }\n    },\n    {\n      \"column\": \"Tentativa\",\n      \"properties\": {\n        \"dtype\": \"number\",\n        \"std\": 1,\n        \"min\": 0,\n        \"max\": 6,\n        \"num_unique_values\": 7,\n        \"samples\": [\n          1,\n          2,\n          5\n        ],\n        \"semantic_type\": \"\",\n        \"description\": \"\"\n      }\n    },\n    {\n      \"column\": \"Resultado\",\n      \"properties\": {\n        \"dtype\": \"category\",\n        \"num_unique_values\": 3,\n        \"samples\": [\n          \"sucesso\",\n          \"erro no formul\\u00e1rio\",\n          \"erro no servidor\"\n        ],\n        \"semantic_type\": \"\",\n        \"description\": \"\"\n      }\n    },\n    {\n      \"column\": \"Tempo_na_P\\u00e1gina\",\n      \"properties\": {\n        \"dtype\": \"number\",\n        \"std\": 29,\n        \"min\": 40,\n        \"max\": 207,\n        \"num_unique_values\": 148,\n        \"samples\": [\n          144,\n          76,\n          199\n        ],\n        \"semantic_type\": \"\",\n        \"description\": \"\"\n      }\n    },\n    {\n      \"column\": \"P\\u00e1ginas_Visitadas\",\n      \"properties\": {\n        \"dtype\": \"number\",\n        \"std\": 5,\n        \"min\": 1,\n        \"max\": 19,\n        \"num_unique_values\": 19,\n        \"samples\": [\n          13,\n          4,\n          10\n        ],\n        \"semantic_type\": \"\",\n        \"description\": \"\"\n      }\n    },\n    {\n      \"column\": \"Tempo_Carregamento\",\n      \"properties\": {\n        \"dtype\": \"number\",\n        \"std\": 502,\n        \"min\": 500,\n        \"max\": 3567,\n        \"num_unique_values\": 777,\n        \"samples\": [\n          2314,\n          1267,\n          1729\n        ],\n        \"semantic_type\": \"\",\n        \"description\": \"\"\n      }\n    },\n    {\n      \"column\": \"Scroll_Profundidade\",\n      \"properties\": {\n        \"dtype\": \"number\",\n        \"std\": 28.516720880626824,\n        \"min\": 0.3442498944409733,\n        \"max\": 99.98714382741338,\n        \"num_unique_values\": 1000,\n        \"samples\": [\n          41.58340502680296,\n          48.247544441783255,\n          57.972938712300525\n        ],\n        \"semantic_type\": \"\",\n        \"description\": \"\"\n      }\n    },\n    {\n      \"column\": \"Cliques\",\n      \"properties\": {\n        \"dtype\": \"number\",\n        \"std\": 14,\n        \"min\": 0,\n        \"max\": 49,\n        \"num_unique_values\": 50,\n        \"samples\": [\n          16,\n          44,\n          30\n        ],\n        \"semantic_type\": \"\",\n        \"description\": \"\"\n      }\n    },\n    {\n      \"column\": \"Tempo_Intera\\u00e7\\u00e3o\",\n      \"properties\": {\n        \"dtype\": \"number\",\n        \"std\": 19,\n        \"min\": 10,\n        \"max\": 127,\n        \"num_unique_values\": 101,\n        \"samples\": [\n          32,\n          19,\n          48\n        ],\n        \"semantic_type\": \"\",\n        \"description\": \"\"\n      }\n    },\n    {\n      \"column\": \"Taxa_de_Rejei\\u00e7\\u00e3o\",\n      \"properties\": {\n        \"dtype\": \"number\",\n        \"std\": 28.56330067580933,\n        \"min\": 0.1447220520999326,\n        \"max\": 99.89225084633328,\n        \"num_unique_values\": 1000,\n        \"samples\": [\n          31.19500091858161,\n          97.39407666667816,\n          91.1573140137698\n        ],\n        \"semantic_type\": \"\",\n        \"description\": \"\"\n      }\n    },\n    {\n      \"column\": \"Abandono\",\n      \"properties\": {\n        \"dtype\": \"category\",\n        \"num_unique_values\": 2,\n        \"samples\": [\n          \"sim\",\n          \"n\\u00e3o\"\n        ],\n        \"semantic_type\": \"\",\n        \"description\": \"\"\n      }\n    },\n    {\n      \"column\": \"Mensagem_de_Erro\",\n      \"properties\": {\n        \"dtype\": \"category\",\n        \"num_unique_values\": 3,\n        \"samples\": [\n          \"Campo obrigat\\u00f3rio\",\n          \"Senha muito curta\"\n        ],\n        \"semantic_type\": \"\",\n        \"description\": \"\"\n      }\n    },\n    {\n      \"column\": \"Navegador\",\n      \"properties\": {\n        \"dtype\": \"category\",\n        \"num_unique_values\": 4,\n        \"samples\": [\n          \"Chrome\",\n          \"Safari\"\n        ],\n        \"semantic_type\": \"\",\n        \"description\": \"\"\n      }\n    },\n    {\n      \"column\": \"Dispositivo\",\n      \"properties\": {\n        \"dtype\": \"category\",\n        \"num_unique_values\": 3,\n        \"samples\": [\n          \"desktop\",\n          \"celular\"\n        ],\n        \"semantic_type\": \"\",\n        \"description\": \"\"\n      }\n    },\n    {\n      \"column\": \"IP\",\n      \"properties\": {\n        \"dtype\": \"string\",\n        \"num_unique_values\": 1000,\n        \"samples\": [\n          \"20.12.245.125\",\n          \"170.116.0.23\"\n        ],\n        \"semantic_type\": \"\",\n        \"description\": \"\"\n      }\n    },\n    {\n      \"column\": \"Localiza\\u00e7\\u00e3o\",\n      \"properties\": {\n        \"dtype\": \"category\",\n        \"num_unique_values\": 5,\n        \"samples\": [\n          \"Rio de Janeiro, BR\",\n          \"Belo Horizonte, BR\"\n        ],\n        \"semantic_type\": \"\",\n        \"description\": \"\"\n      }\n    }\n  ]\n}"
            }
          },
          "metadata": {},
          "execution_count": 77
        }
      ]
    },
    {
      "cell_type": "code",
      "source": [
        "# Faz a leitura do analytics para o grupo controle (A) e o grupo de teste (B)\n",
        "grupo_b_df = pd.read_csv('/content/ITL-SI10-2024-P2-analytics-durante-grupo-B.csv')\n",
        "grupo_b_df.head()"
      ],
      "metadata": {
        "colab": {
          "base_uri": "https://localhost:8080/",
          "height": 330
        },
        "id": "h8poglkiNk-0",
        "outputId": "bd9f51bd-d51e-4454-c11b-a09848d22485"
      },
      "execution_count": 78,
      "outputs": [
        {
          "output_type": "execute_result",
          "data": {
            "text/plain": [
              "         Data      Hora  Usuário_ID  Tentativa         Resultado  \\\n",
              "0  2024-05-01  08:17:06        1902          1           sucesso   \n",
              "1  2024-05-01  15:16:48        1674          1           sucesso   \n",
              "2  2024-05-01  18:08:04        1755          1           sucesso   \n",
              "3  2024-05-01  07:01:42        1904          1  erro no servidor   \n",
              "4  2024-05-01  05:55:03        1840          1           sucesso   \n",
              "\n",
              "   Tempo_na_Página  Páginas_Visitadas  Tempo_Carregamento  \\\n",
              "0               80                 19                1973   \n",
              "1              100                  4                2036   \n",
              "2              111                  5                 818   \n",
              "3               59                 14                1233   \n",
              "4              101                  1                1094   \n",
              "\n",
              "   Scroll_Profundidade  Cliques  Tempo_Interação  Taxa_de_Rejeição Abandono  \\\n",
              "0            50.407681       20               79          2.144795      não   \n",
              "1            73.360529       48               51         24.851049      não   \n",
              "2            14.521006       47               59          6.380459      não   \n",
              "3             8.522866       33               59          3.476768      não   \n",
              "4            15.549566       27               57         26.292869      não   \n",
              "\n",
              "  Mensagem_de_Erro Navegador Dispositivo              IP         Localização  \n",
              "0              NaN      Edge     desktop   62.98.127.222       São Paulo, BR  \n",
              "1              NaN      Edge     celular   21.89.107.127  Belo Horizonte, BR  \n",
              "2              NaN    Safari     celular     129.5.36.97  Rio de Janeiro, BR  \n",
              "3              NaN      Edge     celular  55.121.121.140       São Paulo, BR  \n",
              "4              NaN      Edge     celular  202.28.186.226       São Paulo, BR  "
            ],
            "text/html": [
              "\n",
              "  <div id=\"df-0f71268b-cca0-4846-b8bb-59665815ac77\" class=\"colab-df-container\">\n",
              "    <div>\n",
              "<style scoped>\n",
              "    .dataframe tbody tr th:only-of-type {\n",
              "        vertical-align: middle;\n",
              "    }\n",
              "\n",
              "    .dataframe tbody tr th {\n",
              "        vertical-align: top;\n",
              "    }\n",
              "\n",
              "    .dataframe thead th {\n",
              "        text-align: right;\n",
              "    }\n",
              "</style>\n",
              "<table border=\"1\" class=\"dataframe\">\n",
              "  <thead>\n",
              "    <tr style=\"text-align: right;\">\n",
              "      <th></th>\n",
              "      <th>Data</th>\n",
              "      <th>Hora</th>\n",
              "      <th>Usuário_ID</th>\n",
              "      <th>Tentativa</th>\n",
              "      <th>Resultado</th>\n",
              "      <th>Tempo_na_Página</th>\n",
              "      <th>Páginas_Visitadas</th>\n",
              "      <th>Tempo_Carregamento</th>\n",
              "      <th>Scroll_Profundidade</th>\n",
              "      <th>Cliques</th>\n",
              "      <th>Tempo_Interação</th>\n",
              "      <th>Taxa_de_Rejeição</th>\n",
              "      <th>Abandono</th>\n",
              "      <th>Mensagem_de_Erro</th>\n",
              "      <th>Navegador</th>\n",
              "      <th>Dispositivo</th>\n",
              "      <th>IP</th>\n",
              "      <th>Localização</th>\n",
              "    </tr>\n",
              "  </thead>\n",
              "  <tbody>\n",
              "    <tr>\n",
              "      <th>0</th>\n",
              "      <td>2024-05-01</td>\n",
              "      <td>08:17:06</td>\n",
              "      <td>1902</td>\n",
              "      <td>1</td>\n",
              "      <td>sucesso</td>\n",
              "      <td>80</td>\n",
              "      <td>19</td>\n",
              "      <td>1973</td>\n",
              "      <td>50.407681</td>\n",
              "      <td>20</td>\n",
              "      <td>79</td>\n",
              "      <td>2.144795</td>\n",
              "      <td>não</td>\n",
              "      <td>NaN</td>\n",
              "      <td>Edge</td>\n",
              "      <td>desktop</td>\n",
              "      <td>62.98.127.222</td>\n",
              "      <td>São Paulo, BR</td>\n",
              "    </tr>\n",
              "    <tr>\n",
              "      <th>1</th>\n",
              "      <td>2024-05-01</td>\n",
              "      <td>15:16:48</td>\n",
              "      <td>1674</td>\n",
              "      <td>1</td>\n",
              "      <td>sucesso</td>\n",
              "      <td>100</td>\n",
              "      <td>4</td>\n",
              "      <td>2036</td>\n",
              "      <td>73.360529</td>\n",
              "      <td>48</td>\n",
              "      <td>51</td>\n",
              "      <td>24.851049</td>\n",
              "      <td>não</td>\n",
              "      <td>NaN</td>\n",
              "      <td>Edge</td>\n",
              "      <td>celular</td>\n",
              "      <td>21.89.107.127</td>\n",
              "      <td>Belo Horizonte, BR</td>\n",
              "    </tr>\n",
              "    <tr>\n",
              "      <th>2</th>\n",
              "      <td>2024-05-01</td>\n",
              "      <td>18:08:04</td>\n",
              "      <td>1755</td>\n",
              "      <td>1</td>\n",
              "      <td>sucesso</td>\n",
              "      <td>111</td>\n",
              "      <td>5</td>\n",
              "      <td>818</td>\n",
              "      <td>14.521006</td>\n",
              "      <td>47</td>\n",
              "      <td>59</td>\n",
              "      <td>6.380459</td>\n",
              "      <td>não</td>\n",
              "      <td>NaN</td>\n",
              "      <td>Safari</td>\n",
              "      <td>celular</td>\n",
              "      <td>129.5.36.97</td>\n",
              "      <td>Rio de Janeiro, BR</td>\n",
              "    </tr>\n",
              "    <tr>\n",
              "      <th>3</th>\n",
              "      <td>2024-05-01</td>\n",
              "      <td>07:01:42</td>\n",
              "      <td>1904</td>\n",
              "      <td>1</td>\n",
              "      <td>erro no servidor</td>\n",
              "      <td>59</td>\n",
              "      <td>14</td>\n",
              "      <td>1233</td>\n",
              "      <td>8.522866</td>\n",
              "      <td>33</td>\n",
              "      <td>59</td>\n",
              "      <td>3.476768</td>\n",
              "      <td>não</td>\n",
              "      <td>NaN</td>\n",
              "      <td>Edge</td>\n",
              "      <td>celular</td>\n",
              "      <td>55.121.121.140</td>\n",
              "      <td>São Paulo, BR</td>\n",
              "    </tr>\n",
              "    <tr>\n",
              "      <th>4</th>\n",
              "      <td>2024-05-01</td>\n",
              "      <td>05:55:03</td>\n",
              "      <td>1840</td>\n",
              "      <td>1</td>\n",
              "      <td>sucesso</td>\n",
              "      <td>101</td>\n",
              "      <td>1</td>\n",
              "      <td>1094</td>\n",
              "      <td>15.549566</td>\n",
              "      <td>27</td>\n",
              "      <td>57</td>\n",
              "      <td>26.292869</td>\n",
              "      <td>não</td>\n",
              "      <td>NaN</td>\n",
              "      <td>Edge</td>\n",
              "      <td>celular</td>\n",
              "      <td>202.28.186.226</td>\n",
              "      <td>São Paulo, BR</td>\n",
              "    </tr>\n",
              "  </tbody>\n",
              "</table>\n",
              "</div>\n",
              "    <div class=\"colab-df-buttons\">\n",
              "\n",
              "  <div class=\"colab-df-container\">\n",
              "    <button class=\"colab-df-convert\" onclick=\"convertToInteractive('df-0f71268b-cca0-4846-b8bb-59665815ac77')\"\n",
              "            title=\"Convert this dataframe to an interactive table.\"\n",
              "            style=\"display:none;\">\n",
              "\n",
              "  <svg xmlns=\"http://www.w3.org/2000/svg\" height=\"24px\" viewBox=\"0 -960 960 960\">\n",
              "    <path d=\"M120-120v-720h720v720H120Zm60-500h600v-160H180v160Zm220 220h160v-160H400v160Zm0 220h160v-160H400v160ZM180-400h160v-160H180v160Zm440 0h160v-160H620v160ZM180-180h160v-160H180v160Zm440 0h160v-160H620v160Z\"/>\n",
              "  </svg>\n",
              "    </button>\n",
              "\n",
              "  <style>\n",
              "    .colab-df-container {\n",
              "      display:flex;\n",
              "      gap: 12px;\n",
              "    }\n",
              "\n",
              "    .colab-df-convert {\n",
              "      background-color: #E8F0FE;\n",
              "      border: none;\n",
              "      border-radius: 50%;\n",
              "      cursor: pointer;\n",
              "      display: none;\n",
              "      fill: #1967D2;\n",
              "      height: 32px;\n",
              "      padding: 0 0 0 0;\n",
              "      width: 32px;\n",
              "    }\n",
              "\n",
              "    .colab-df-convert:hover {\n",
              "      background-color: #E2EBFA;\n",
              "      box-shadow: 0px 1px 2px rgba(60, 64, 67, 0.3), 0px 1px 3px 1px rgba(60, 64, 67, 0.15);\n",
              "      fill: #174EA6;\n",
              "    }\n",
              "\n",
              "    .colab-df-buttons div {\n",
              "      margin-bottom: 4px;\n",
              "    }\n",
              "\n",
              "    [theme=dark] .colab-df-convert {\n",
              "      background-color: #3B4455;\n",
              "      fill: #D2E3FC;\n",
              "    }\n",
              "\n",
              "    [theme=dark] .colab-df-convert:hover {\n",
              "      background-color: #434B5C;\n",
              "      box-shadow: 0px 1px 3px 1px rgba(0, 0, 0, 0.15);\n",
              "      filter: drop-shadow(0px 1px 2px rgba(0, 0, 0, 0.3));\n",
              "      fill: #FFFFFF;\n",
              "    }\n",
              "  </style>\n",
              "\n",
              "    <script>\n",
              "      const buttonEl =\n",
              "        document.querySelector('#df-0f71268b-cca0-4846-b8bb-59665815ac77 button.colab-df-convert');\n",
              "      buttonEl.style.display =\n",
              "        google.colab.kernel.accessAllowed ? 'block' : 'none';\n",
              "\n",
              "      async function convertToInteractive(key) {\n",
              "        const element = document.querySelector('#df-0f71268b-cca0-4846-b8bb-59665815ac77');\n",
              "        const dataTable =\n",
              "          await google.colab.kernel.invokeFunction('convertToInteractive',\n",
              "                                                    [key], {});\n",
              "        if (!dataTable) return;\n",
              "\n",
              "        const docLinkHtml = 'Like what you see? Visit the ' +\n",
              "          '<a target=\"_blank\" href=https://colab.research.google.com/notebooks/data_table.ipynb>data table notebook</a>'\n",
              "          + ' to learn more about interactive tables.';\n",
              "        element.innerHTML = '';\n",
              "        dataTable['output_type'] = 'display_data';\n",
              "        await google.colab.output.renderOutput(dataTable, element);\n",
              "        const docLink = document.createElement('div');\n",
              "        docLink.innerHTML = docLinkHtml;\n",
              "        element.appendChild(docLink);\n",
              "      }\n",
              "    </script>\n",
              "  </div>\n",
              "\n",
              "\n",
              "<div id=\"df-ac61371e-5389-452b-9a82-2795a65753a3\">\n",
              "  <button class=\"colab-df-quickchart\" onclick=\"quickchart('df-ac61371e-5389-452b-9a82-2795a65753a3')\"\n",
              "            title=\"Suggest charts\"\n",
              "            style=\"display:none;\">\n",
              "\n",
              "<svg xmlns=\"http://www.w3.org/2000/svg\" height=\"24px\"viewBox=\"0 0 24 24\"\n",
              "     width=\"24px\">\n",
              "    <g>\n",
              "        <path d=\"M19 3H5c-1.1 0-2 .9-2 2v14c0 1.1.9 2 2 2h14c1.1 0 2-.9 2-2V5c0-1.1-.9-2-2-2zM9 17H7v-7h2v7zm4 0h-2V7h2v10zm4 0h-2v-4h2v4z\"/>\n",
              "    </g>\n",
              "</svg>\n",
              "  </button>\n",
              "\n",
              "<style>\n",
              "  .colab-df-quickchart {\n",
              "      --bg-color: #E8F0FE;\n",
              "      --fill-color: #1967D2;\n",
              "      --hover-bg-color: #E2EBFA;\n",
              "      --hover-fill-color: #174EA6;\n",
              "      --disabled-fill-color: #AAA;\n",
              "      --disabled-bg-color: #DDD;\n",
              "  }\n",
              "\n",
              "  [theme=dark] .colab-df-quickchart {\n",
              "      --bg-color: #3B4455;\n",
              "      --fill-color: #D2E3FC;\n",
              "      --hover-bg-color: #434B5C;\n",
              "      --hover-fill-color: #FFFFFF;\n",
              "      --disabled-bg-color: #3B4455;\n",
              "      --disabled-fill-color: #666;\n",
              "  }\n",
              "\n",
              "  .colab-df-quickchart {\n",
              "    background-color: var(--bg-color);\n",
              "    border: none;\n",
              "    border-radius: 50%;\n",
              "    cursor: pointer;\n",
              "    display: none;\n",
              "    fill: var(--fill-color);\n",
              "    height: 32px;\n",
              "    padding: 0;\n",
              "    width: 32px;\n",
              "  }\n",
              "\n",
              "  .colab-df-quickchart:hover {\n",
              "    background-color: var(--hover-bg-color);\n",
              "    box-shadow: 0 1px 2px rgba(60, 64, 67, 0.3), 0 1px 3px 1px rgba(60, 64, 67, 0.15);\n",
              "    fill: var(--button-hover-fill-color);\n",
              "  }\n",
              "\n",
              "  .colab-df-quickchart-complete:disabled,\n",
              "  .colab-df-quickchart-complete:disabled:hover {\n",
              "    background-color: var(--disabled-bg-color);\n",
              "    fill: var(--disabled-fill-color);\n",
              "    box-shadow: none;\n",
              "  }\n",
              "\n",
              "  .colab-df-spinner {\n",
              "    border: 2px solid var(--fill-color);\n",
              "    border-color: transparent;\n",
              "    border-bottom-color: var(--fill-color);\n",
              "    animation:\n",
              "      spin 1s steps(1) infinite;\n",
              "  }\n",
              "\n",
              "  @keyframes spin {\n",
              "    0% {\n",
              "      border-color: transparent;\n",
              "      border-bottom-color: var(--fill-color);\n",
              "      border-left-color: var(--fill-color);\n",
              "    }\n",
              "    20% {\n",
              "      border-color: transparent;\n",
              "      border-left-color: var(--fill-color);\n",
              "      border-top-color: var(--fill-color);\n",
              "    }\n",
              "    30% {\n",
              "      border-color: transparent;\n",
              "      border-left-color: var(--fill-color);\n",
              "      border-top-color: var(--fill-color);\n",
              "      border-right-color: var(--fill-color);\n",
              "    }\n",
              "    40% {\n",
              "      border-color: transparent;\n",
              "      border-right-color: var(--fill-color);\n",
              "      border-top-color: var(--fill-color);\n",
              "    }\n",
              "    60% {\n",
              "      border-color: transparent;\n",
              "      border-right-color: var(--fill-color);\n",
              "    }\n",
              "    80% {\n",
              "      border-color: transparent;\n",
              "      border-right-color: var(--fill-color);\n",
              "      border-bottom-color: var(--fill-color);\n",
              "    }\n",
              "    90% {\n",
              "      border-color: transparent;\n",
              "      border-bottom-color: var(--fill-color);\n",
              "    }\n",
              "  }\n",
              "</style>\n",
              "\n",
              "  <script>\n",
              "    async function quickchart(key) {\n",
              "      const quickchartButtonEl =\n",
              "        document.querySelector('#' + key + ' button');\n",
              "      quickchartButtonEl.disabled = true;  // To prevent multiple clicks.\n",
              "      quickchartButtonEl.classList.add('colab-df-spinner');\n",
              "      try {\n",
              "        const charts = await google.colab.kernel.invokeFunction(\n",
              "            'suggestCharts', [key], {});\n",
              "      } catch (error) {\n",
              "        console.error('Error during call to suggestCharts:', error);\n",
              "      }\n",
              "      quickchartButtonEl.classList.remove('colab-df-spinner');\n",
              "      quickchartButtonEl.classList.add('colab-df-quickchart-complete');\n",
              "    }\n",
              "    (() => {\n",
              "      let quickchartButtonEl =\n",
              "        document.querySelector('#df-ac61371e-5389-452b-9a82-2795a65753a3 button');\n",
              "      quickchartButtonEl.style.display =\n",
              "        google.colab.kernel.accessAllowed ? 'block' : 'none';\n",
              "    })();\n",
              "  </script>\n",
              "</div>\n",
              "\n",
              "    </div>\n",
              "  </div>\n"
            ],
            "application/vnd.google.colaboratory.intrinsic+json": {
              "type": "dataframe",
              "variable_name": "grupo_b_df",
              "summary": "{\n  \"name\": \"grupo_b_df\",\n  \"rows\": 500,\n  \"fields\": [\n    {\n      \"column\": \"Data\",\n      \"properties\": {\n        \"dtype\": \"object\",\n        \"num_unique_values\": 30,\n        \"samples\": [\n          \"2024-05-28\",\n          \"2024-05-16\",\n          \"2024-05-24\"\n        ],\n        \"semantic_type\": \"\",\n        \"description\": \"\"\n      }\n    },\n    {\n      \"column\": \"Hora\",\n      \"properties\": {\n        \"dtype\": \"object\",\n        \"num_unique_values\": 499,\n        \"samples\": [\n          \"00:44:11\",\n          \"13:26:23\",\n          \"20:00:20\"\n        ],\n        \"semantic_type\": \"\",\n        \"description\": \"\"\n      }\n    },\n    {\n      \"column\": \"Usu\\u00e1rio_ID\",\n      \"properties\": {\n        \"dtype\": \"number\",\n        \"std\": 141,\n        \"min\": 1500,\n        \"max\": 1995,\n        \"num_unique_values\": 311,\n        \"samples\": [\n          1898,\n          1539,\n          1829\n        ],\n        \"semantic_type\": \"\",\n        \"description\": \"\"\n      }\n    },\n    {\n      \"column\": \"Tentativa\",\n      \"properties\": {\n        \"dtype\": \"number\",\n        \"std\": 0,\n        \"min\": 0,\n        \"max\": 6,\n        \"num_unique_values\": 7,\n        \"samples\": [\n          1,\n          3,\n          5\n        ],\n        \"semantic_type\": \"\",\n        \"description\": \"\"\n      }\n    },\n    {\n      \"column\": \"Resultado\",\n      \"properties\": {\n        \"dtype\": \"category\",\n        \"num_unique_values\": 3,\n        \"samples\": [\n          \"sucesso\",\n          \"erro no servidor\",\n          \"erro no formul\\u00e1rio\"\n        ],\n        \"semantic_type\": \"\",\n        \"description\": \"\"\n      }\n    },\n    {\n      \"column\": \"Tempo_na_P\\u00e1gina\",\n      \"properties\": {\n        \"dtype\": \"number\",\n        \"std\": 20,\n        \"min\": 41,\n        \"max\": 162,\n        \"num_unique_values\": 96,\n        \"samples\": [\n          144,\n          61,\n          133\n        ],\n        \"semantic_type\": \"\",\n        \"description\": \"\"\n      }\n    },\n    {\n      \"column\": \"P\\u00e1ginas_Visitadas\",\n      \"properties\": {\n        \"dtype\": \"number\",\n        \"std\": 5,\n        \"min\": 1,\n        \"max\": 19,\n        \"num_unique_values\": 19,\n        \"samples\": [\n          19,\n          13,\n          10\n        ],\n        \"semantic_type\": \"\",\n        \"description\": \"\"\n      }\n    },\n    {\n      \"column\": \"Tempo_Carregamento\",\n      \"properties\": {\n        \"dtype\": \"number\",\n        \"std\": 382,\n        \"min\": 500,\n        \"max\": 2440,\n        \"num_unique_values\": 424,\n        \"samples\": [\n          1215,\n          811,\n          1793\n        ],\n        \"semantic_type\": \"\",\n        \"description\": \"\"\n      }\n    },\n    {\n      \"column\": \"Scroll_Profundidade\",\n      \"properties\": {\n        \"dtype\": \"number\",\n        \"std\": 28.970719412891835,\n        \"min\": 0.0020517960894972,\n        \"max\": 99.89337371045391,\n        \"num_unique_values\": 500,\n        \"samples\": [\n          97.00997244065044,\n          76.55166790702364,\n          36.1702801391489\n        ],\n        \"semantic_type\": \"\",\n        \"description\": \"\"\n      }\n    },\n    {\n      \"column\": \"Cliques\",\n      \"properties\": {\n        \"dtype\": \"number\",\n        \"std\": 14,\n        \"min\": 0,\n        \"max\": 49,\n        \"num_unique_values\": 50,\n        \"samples\": [\n          44,\n          6,\n          30\n        ],\n        \"semantic_type\": \"\",\n        \"description\": \"\"\n      }\n    },\n    {\n      \"column\": \"Tempo_Intera\\u00e7\\u00e3o\",\n      \"properties\": {\n        \"dtype\": \"number\",\n        \"std\": 13,\n        \"min\": 28,\n        \"max\": 110,\n        \"num_unique_values\": 68,\n        \"samples\": [\n          58,\n          50,\n          70\n        ],\n        \"semantic_type\": \"\",\n        \"description\": \"\"\n      }\n    },\n    {\n      \"column\": \"Taxa_de_Rejei\\u00e7\\u00e3o\",\n      \"properties\": {\n        \"dtype\": \"number\",\n        \"std\": 13.775256926466474,\n        \"min\": 0.0778617412762916,\n        \"max\": 49.97052939283185,\n        \"num_unique_values\": 500,\n        \"samples\": [\n          31.963128104396183,\n          39.07236893128363,\n          8.75553846469288\n        ],\n        \"semantic_type\": \"\",\n        \"description\": \"\"\n      }\n    },\n    {\n      \"column\": \"Abandono\",\n      \"properties\": {\n        \"dtype\": \"category\",\n        \"num_unique_values\": 2,\n        \"samples\": [\n          \"sim\",\n          \"n\\u00e3o\"\n        ],\n        \"semantic_type\": \"\",\n        \"description\": \"\"\n      }\n    },\n    {\n      \"column\": \"Mensagem_de_Erro\",\n      \"properties\": {\n        \"dtype\": \"category\",\n        \"num_unique_values\": 3,\n        \"samples\": [\n          \"Senha muito curta\",\n          \"Campo obrigat\\u00f3rio\"\n        ],\n        \"semantic_type\": \"\",\n        \"description\": \"\"\n      }\n    },\n    {\n      \"column\": \"Navegador\",\n      \"properties\": {\n        \"dtype\": \"category\",\n        \"num_unique_values\": 4,\n        \"samples\": [\n          \"Safari\",\n          \"Firefox\"\n        ],\n        \"semantic_type\": \"\",\n        \"description\": \"\"\n      }\n    },\n    {\n      \"column\": \"Dispositivo\",\n      \"properties\": {\n        \"dtype\": \"category\",\n        \"num_unique_values\": 3,\n        \"samples\": [\n          \"desktop\",\n          \"celular\"\n        ],\n        \"semantic_type\": \"\",\n        \"description\": \"\"\n      }\n    },\n    {\n      \"column\": \"IP\",\n      \"properties\": {\n        \"dtype\": \"string\",\n        \"num_unique_values\": 500,\n        \"samples\": [\n          \"130.190.11.72\",\n          \"41.44.45.23\"\n        ],\n        \"semantic_type\": \"\",\n        \"description\": \"\"\n      }\n    },\n    {\n      \"column\": \"Localiza\\u00e7\\u00e3o\",\n      \"properties\": {\n        \"dtype\": \"category\",\n        \"num_unique_values\": 5,\n        \"samples\": [\n          \"Belo Horizonte, BR\",\n          \"Salvador, BR\"\n        ],\n        \"semantic_type\": \"\",\n        \"description\": \"\"\n      }\n    }\n  ]\n}"
            }
          },
          "metadata": {},
          "execution_count": 78
        }
      ]
    },
    {
      "cell_type": "markdown",
      "source": [
        "## Tarefas"
      ],
      "metadata": {
        "id": "3KN7GhBo1hk0"
      }
    },
    {
      "cell_type": "markdown",
      "source": [
        "### Tarefa 1: Análise Exploratória"
      ],
      "metadata": {
        "id": "BuJncRgF2QhN"
      }
    },
    {
      "cell_type": "markdown",
      "source": [
        "### Grupo A"
      ],
      "metadata": {
        "id": "B61blJawxTfh"
      }
    },
    {
      "cell_type": "code",
      "source": [
        "grupo_a_df.groupby('Mensagem_de_Erro').size().plot(kind='barh', color=sns.palettes.mpl_palette('Dark2'))\n",
        "plt.gca().spines[['top', 'right',]].set_visible(False)"
      ],
      "metadata": {
        "colab": {
          "base_uri": "https://localhost:8080/",
          "height": 430
        },
        "id": "6uxyhRTryhHn",
        "outputId": "d1736be0-11fe-4832-84a4-00bacbdbf7c3"
      },
      "execution_count": 79,
      "outputs": [
        {
          "output_type": "display_data",
          "data": {
            "text/plain": [
              "<Figure size 640x480 with 1 Axes>"
            ],
            "image/png": "[encoded data removed]"
          },
          "metadata": {}
        }
      ]
    },
    {
      "cell_type": "markdown",
      "source": [
        "O gráfico demonstra que o maior erro refere-se aos campos obrigatórios, seguido por 'Senha muito curta' e 'Erro 500'. Como o objetivo está na primeira parte do formulário de recuperação de senha, provalvemente o erro referente a senha não se aplica nessa página, mas na conseguinte em que é escolhida uma nova senha para usuário, logo o foco deve estar, majoritariamente, no erro dos campos obrigatórios."
      ],
      "metadata": {
        "id": "xJAGaqHA_s0d"
      }
    },
    {
      "cell_type": "code",
      "source": [
        "df_encoded_a = grupo_a_df[['Scroll_Profundidade', 'Cliques', 'Páginas_Visitadas', 'Tempo_Interação', 'Tentativa', 'Páginas_Visitadas', 'Taxa_de_Rejeição']]"
      ],
      "metadata": {
        "id": "k8MgN0IAxUiQ"
      },
      "execution_count": 80,
      "outputs": []
    },
    {
      "cell_type": "code",
      "source": [
        "import plotly.graph_objs as go\n",
        "\n",
        "df_corr = df_encoded_a.corr()\n",
        "\n",
        "fig = go.Figure()\n",
        "fig.add_trace(\n",
        "    go.Heatmap(\n",
        "        x = df_corr.columns,\n",
        "        y = df_corr.index,\n",
        "        z = np.array(df_corr),\n",
        "        text=df_corr.values,\n",
        "        texttemplate='%{text:.2f}'\n",
        "    )\n",
        ")\n",
        "fig.show()\n",
        ""
      ],
      "metadata": {
        "colab": {
          "base_uri": "https://localhost:8080/",
          "height": 542
        },
        "id": "U0Ef8oNyxYVd",
        "outputId": "d81e7f21-d663-4e4a-820b-77d5a4760abe"
      },
      "execution_count": 81,
      "outputs": [
        {
          "output_type": "display_data",
          "data": {
            "text/html": [
              "<html>\n",
              "<head><meta charset=\"utf-8\" /></head>\n",
              "<body>\n",
              "    <div>            <script src=\"https://cdnjs.cloudflare.com/ajax/libs/mathjax/2.7.5/MathJax.js?config=TeX-AMS-MML_SVG\"></script><script type=\"text/javascript\">if (window.MathJax && window.MathJax.Hub && window.MathJax.Hub.Config) {window.MathJax.Hub.Config({SVG: {font: \"STIX-Web\"}});}</script>                <script type=\"text/javascript\">window.PlotlyConfig = {MathJaxConfig: 'local'};</script>\n",
              "        <script charset=\"utf-8\" src=\"https://cdn.plot.ly/plotly-2.24.1.min.js\"></script>                <div id=\"1f59a4a1-4fe4-44de-988f-c33875dd2a09\" class=\"plotly-graph-div\" style=\"height:525px; width:100%;\"></div>            <script type=\"text/javascript\">                                    window.PLOTLYENV=window.PLOTLYENV || {};                                    if (document.getElementById(\"1f59a4a1-4fe4-44de-988f-c33875dd2a09\")) {                    Plotly.newPlot(                        \"1f59a4a1-4fe4-44de-988f-c33875dd2a09\",                        [{\"text\":[[1.0,-0.00106846421437723,-0.006659751813220076,0.0018119587138762615,-0.044966512725620314,-0.006659751813220076,0.061925853043477884],[-0.00106846421437723,1.0,0.04644396907980638,-0.019601644938607474,0.015936949464651535,0.04644396907980638,-0.04486347263372742],[-0.006659751813220076,0.04644396907980638,1.0,0.04090258822243509,0.03920785565255273,1.0,-0.027507684940862177],[0.0018119587138762615,-0.019601644938607474,0.04090258822243509,1.0,0.0013289985842680262,0.04090258822243507,-0.021786919973817393],[-0.044966512725620314,0.015936949464651535,0.03920785565255273,0.0013289985842680262,1.0,0.039207855652552706,0.004250342240946637],[-0.006659751813220076,0.04644396907980638,1.0,0.04090258822243507,0.039207855652552706,1.0,-0.027507684940862177],[0.061925853043477884,-0.04486347263372742,-0.027507684940862177,-0.021786919973817393,0.004250342240946637,-0.027507684940862177,1.0]],\"texttemplate\":\"%{text:.2f}\",\"x\":[\"Scroll_Profundidade\",\"Cliques\",\"P\\u00e1ginas_Visitadas\",\"Tempo_Intera\\u00e7\\u00e3o\",\"Tentativa\",\"P\\u00e1ginas_Visitadas\",\"Taxa_de_Rejei\\u00e7\\u00e3o\"],\"y\":[\"Scroll_Profundidade\",\"Cliques\",\"P\\u00e1ginas_Visitadas\",\"Tempo_Intera\\u00e7\\u00e3o\",\"Tentativa\",\"P\\u00e1ginas_Visitadas\",\"Taxa_de_Rejei\\u00e7\\u00e3o\"],\"z\":[[1.0,-0.00106846421437723,-0.006659751813220076,0.0018119587138762615,-0.044966512725620314,-0.006659751813220076,0.061925853043477884],[-0.00106846421437723,1.0,0.04644396907980638,-0.019601644938607474,0.015936949464651535,0.04644396907980638,-0.04486347263372742],[-0.006659751813220076,0.04644396907980638,1.0,0.04090258822243509,0.03920785565255273,1.0,-0.027507684940862177],[0.0018119587138762615,-0.019601644938607474,0.04090258822243509,1.0,0.0013289985842680262,0.04090258822243507,-0.021786919973817393],[-0.044966512725620314,0.015936949464651535,0.03920785565255273,0.0013289985842680262,1.0,0.039207855652552706,0.004250342240946637],[-0.006659751813220076,0.04644396907980638,1.0,0.04090258822243507,0.039207855652552706,1.0,-0.027507684940862177],[0.061925853043477884,-0.04486347263372742,-0.027507684940862177,-0.021786919973817393,0.004250342240946637,-0.027507684940862177,1.0]],\"type\":\"heatmap\"}],                        {\"template\":{\"data\":{\"histogram2dcontour\":[{\"type\":\"histogram2dcontour\",\"colorbar\":{\"outlinewidth\":0,\"ticks\":\"\"},\"colorscale\":[[0.0,\"#0d0887\"],[0.1111111111111111,\"#46039f\"],[0.2222222222222222,\"#7201a8\"],[0.3333333333333333,\"#9c179e\"],[0.4444444444444444,\"#bd3786\"],[0.5555555555555556,\"#d8576b\"],[0.6666666666666666,\"#ed7953\"],[0.7777777777777778,\"#fb9f3a\"],[0.8888888888888888,\"#fdca26\"],[1.0,\"#f0f921\"]]}],\"choropleth\":[{\"type\":\"choropleth\",\"colorbar\":{\"outlinewidth\":0,\"ticks\":\"\"}}],\"histogram2d\":[{\"type\":\"histogram2d\",\"colorbar\":{\"outlinewidth\":0,\"ticks\":\"\"},\"colorscale\":[[0.0,\"#0d0887\"],[0.1111111111111111,\"#46039f\"],[0.2222222222222222,\"#7201a8\"],[0.3333333333333333,\"#9c179e\"],[0.4444444444444444,\"#bd3786\"],[0.5555555555555556,\"#d8576b\"],[0.6666666666666666,\"#ed7953\"],[0.7777777777777778,\"#fb9f3a\"],[0.8888888888888888,\"#fdca26\"],[1.0,\"#f0f921\"]]}],\"heatmap\":[{\"type\":\"heatmap\",\"colorbar\":{\"outlinewidth\":0,\"ticks\":\"\"},\"colorscale\":[[0.0,\"#0d0887\"],[0.1111111111111111,\"#46039f\"],[0.2222222222222222,\"#7201a8\"],[0.3333333333333333,\"#9c179e\"],[0.4444444444444444,\"#bd3786\"],[0.5555555555555556,\"#d8576b\"],[0.6666666666666666,\"#ed7953\"],[0.7777777777777778,\"#fb9f3a\"],[0.8888888888888888,\"#fdca26\"],[1.0,\"#f0f921\"]]}],\"heatmapgl\":[{\"type\":\"heatmapgl\",\"colorbar\":{\"outlinewidth\":0,\"ticks\":\"\"},\"colorscale\":[[0.0,\"#0d0887\"],[0.1111111111111111,\"#46039f\"],[0.2222222222222222,\"#7201a8\"],[0.3333333333333333,\"#9c179e\"],[0.4444444444444444,\"#bd3786\"],[0.5555555555555556,\"#d8576b\"],[0.6666666666666666,\"#ed7953\"],[0.7777777777777778,\"#fb9f3a\"],[0.8888888888888888,\"#fdca26\"],[1.0,\"#f0f921\"]]}],\"contourcarpet\":[{\"type\":\"contourcarpet\",\"colorbar\":{\"outlinewidth\":0,\"ticks\":\"\"}}],\"contour\":[{\"type\":\"contour\",\"colorbar\":{\"outlinewidth\":0,\"ticks\":\"\"},\"colorscale\":[[0.0,\"#0d0887\"],[0.1111111111111111,\"#46039f\"],[0.2222222222222222,\"#7201a8\"],[0.3333333333333333,\"#9c179e\"],[0.4444444444444444,\"#bd3786\"],[0.5555555555555556,\"#d8576b\"],[0.6666666666666666,\"#ed7953\"],[0.7777777777777778,\"#fb9f3a\"],[0.8888888888888888,\"#fdca26\"],[1.0,\"#f0f921\"]]}],\"surface\":[{\"type\":\"surface\",\"colorbar\":{\"outlinewidth\":0,\"ticks\":\"\"},\"colorscale\":[[0.0,\"#0d0887\"],[0.1111111111111111,\"#46039f\"],[0.2222222222222222,\"#7201a8\"],[0.3333333333333333,\"#9c179e\"],[0.4444444444444444,\"#bd3786\"],[0.5555555555555556,\"#d8576b\"],[0.6666666666666666,\"#ed7953\"],[0.7777777777777778,\"#fb9f3a\"],[0.8888888888888888,\"#fdca26\"],[1.0,\"#f0f921\"]]}],\"mesh3d\":[{\"type\":\"mesh3d\",\"colorbar\":{\"outlinewidth\":0,\"ticks\":\"\"}}],\"scatter\":[{\"fillpattern\":{\"fillmode\":\"overlay\",\"size\":10,\"solidity\":0.2},\"type\":\"scatter\"}],\"parcoords\":[{\"type\":\"parcoords\",\"line\":{\"colorbar\":{\"outlinewidth\":0,\"ticks\":\"\"}}}],\"scatterpolargl\":[{\"type\":\"scatterpolargl\",\"marker\":{\"colorbar\":{\"outlinewidth\":0,\"ticks\":\"\"}}}],\"bar\":[{\"error_x\":{\"color\":\"#2a3f5f\"},\"error_y\":{\"color\":\"#2a3f5f\"},\"marker\":{\"line\":{\"color\":\"#E5ECF6\",\"width\":0.5},\"pattern\":{\"fillmode\":\"overlay\",\"size\":10,\"solidity\":0.2}},\"type\":\"bar\"}],\"scattergeo\":[{\"type\":\"scattergeo\",\"marker\":{\"colorbar\":{\"outlinewidth\":0,\"ticks\":\"\"}}}],\"scatterpolar\":[{\"type\":\"scatterpolar\",\"marker\":{\"colorbar\":{\"outlinewidth\":0,\"ticks\":\"\"}}}],\"histogram\":[{\"marker\":{\"pattern\":{\"fillmode\":\"overlay\",\"size\":10,\"solidity\":0.2}},\"type\":\"histogram\"}],\"scattergl\":[{\"type\":\"scattergl\",\"marker\":{\"colorbar\":{\"outlinewidth\":0,\"ticks\":\"\"}}}],\"scatter3d\":[{\"type\":\"scatter3d\",\"line\":{\"colorbar\":{\"outlinewidth\":0,\"ticks\":\"\"}},\"marker\":{\"colorbar\":{\"outlinewidth\":0,\"ticks\":\"\"}}}],\"scattermapbox\":[{\"type\":\"scattermapbox\",\"marker\":{\"colorbar\":{\"outlinewidth\":0,\"ticks\":\"\"}}}],\"scatterternary\":[{\"type\":\"scatterternary\",\"marker\":{\"colorbar\":{\"outlinewidth\":0,\"ticks\":\"\"}}}],\"scattercarpet\":[{\"type\":\"scattercarpet\",\"marker\":{\"colorbar\":{\"outlinewidth\":0,\"ticks\":\"\"}}}],\"carpet\":[{\"aaxis\":{\"endlinecolor\":\"#2a3f5f\",\"gridcolor\":\"white\",\"linecolor\":\"white\",\"minorgridcolor\":\"white\",\"startlinecolor\":\"#2a3f5f\"},\"baxis\":{\"endlinecolor\":\"#2a3f5f\",\"gridcolor\":\"white\",\"linecolor\":\"white\",\"minorgridcolor\":\"white\",\"startlinecolor\":\"#2a3f5f\"},\"type\":\"carpet\"}],\"table\":[{\"cells\":{\"fill\":{\"color\":\"#EBF0F8\"},\"line\":{\"color\":\"white\"}},\"header\":{\"fill\":{\"color\":\"#C8D4E3\"},\"line\":{\"color\":\"white\"}},\"type\":\"table\"}],\"barpolar\":[{\"marker\":{\"line\":{\"color\":\"#E5ECF6\",\"width\":0.5},\"pattern\":{\"fillmode\":\"overlay\",\"size\":10,\"solidity\":0.2}},\"type\":\"barpolar\"}],\"pie\":[{\"automargin\":true,\"type\":\"pie\"}]},\"layout\":{\"autotypenumbers\":\"strict\",\"colorway\":[\"#636efa\",\"#EF553B\",\"#00cc96\",\"#ab63fa\",\"#FFA15A\",\"#19d3f3\",\"#FF6692\",\"#B6E880\",\"#FF97FF\",\"#FECB52\"],\"font\":{\"color\":\"#2a3f5f\"},\"hovermode\":\"closest\",\"hoverlabel\":{\"align\":\"left\"},\"paper_bgcolor\":\"white\",\"plot_bgcolor\":\"#E5ECF6\",\"polar\":{\"bgcolor\":\"#E5ECF6\",\"angularaxis\":{\"gridcolor\":\"white\",\"linecolor\":\"white\",\"ticks\":\"\"},\"radialaxis\":{\"gridcolor\":\"white\",\"linecolor\":\"white\",\"ticks\":\"\"}},\"ternary\":{\"bgcolor\":\"#E5ECF6\",\"aaxis\":{\"gridcolor\":\"white\",\"linecolor\":\"white\",\"ticks\":\"\"},\"baxis\":{\"gridcolor\":\"white\",\"linecolor\":\"white\",\"ticks\":\"\"},\"caxis\":{\"gridcolor\":\"white\",\"linecolor\":\"white\",\"ticks\":\"\"}},\"coloraxis\":{\"colorbar\":{\"outlinewidth\":0,\"ticks\":\"\"}},\"colorscale\":{\"sequential\":[[0.0,\"#0d0887\"],[0.1111111111111111,\"#46039f\"],[0.2222222222222222,\"#7201a8\"],[0.3333333333333333,\"#9c179e\"],[0.4444444444444444,\"#bd3786\"],[0.5555555555555556,\"#d8576b\"],[0.6666666666666666,\"#ed7953\"],[0.7777777777777778,\"#fb9f3a\"],[0.8888888888888888,\"#fdca26\"],[1.0,\"#f0f921\"]],\"sequentialminus\":[[0.0,\"#0d0887\"],[0.1111111111111111,\"#46039f\"],[0.2222222222222222,\"#7201a8\"],[0.3333333333333333,\"#9c179e\"],[0.4444444444444444,\"#bd3786\"],[0.5555555555555556,\"#d8576b\"],[0.6666666666666666,\"#ed7953\"],[0.7777777777777778,\"#fb9f3a\"],[0.8888888888888888,\"#fdca26\"],[1.0,\"#f0f921\"]],\"diverging\":[[0,\"#8e0152\"],[0.1,\"#c51b7d\"],[0.2,\"#de77ae\"],[0.3,\"#f1b6da\"],[0.4,\"#fde0ef\"],[0.5,\"#f7f7f7\"],[0.6,\"#e6f5d0\"],[0.7,\"#b8e186\"],[0.8,\"#7fbc41\"],[0.9,\"#4d9221\"],[1,\"#276419\"]]},\"xaxis\":{\"gridcolor\":\"white\",\"linecolor\":\"white\",\"ticks\":\"\",\"title\":{\"standoff\":15},\"zerolinecolor\":\"white\",\"automargin\":true,\"zerolinewidth\":2},\"yaxis\":{\"gridcolor\":\"white\",\"linecolor\":\"white\",\"ticks\":\"\",\"title\":{\"standoff\":15},\"zerolinecolor\":\"white\",\"automargin\":true,\"zerolinewidth\":2},\"scene\":{\"xaxis\":{\"backgroundcolor\":\"#E5ECF6\",\"gridcolor\":\"white\",\"linecolor\":\"white\",\"showbackground\":true,\"ticks\":\"\",\"zerolinecolor\":\"white\",\"gridwidth\":2},\"yaxis\":{\"backgroundcolor\":\"#E5ECF6\",\"gridcolor\":\"white\",\"linecolor\":\"white\",\"showbackground\":true,\"ticks\":\"\",\"zerolinecolor\":\"white\",\"gridwidth\":2},\"zaxis\":{\"backgroundcolor\":\"#E5ECF6\",\"gridcolor\":\"white\",\"linecolor\":\"white\",\"showbackground\":true,\"ticks\":\"\",\"zerolinecolor\":\"white\",\"gridwidth\":2}},\"shapedefaults\":{\"line\":{\"color\":\"#2a3f5f\"}},\"annotationdefaults\":{\"arrowcolor\":\"#2a3f5f\",\"arrowhead\":0,\"arrowwidth\":1},\"geo\":{\"bgcolor\":\"white\",\"landcolor\":\"#E5ECF6\",\"subunitcolor\":\"white\",\"showland\":true,\"showlakes\":true,\"lakecolor\":\"white\"},\"title\":{\"x\":0.05},\"mapbox\":{\"style\":\"light\"}}}},                        {\"responsive\": true}                    ).then(function(){\n",
              "                            \n",
              "var gd = document.getElementById('1f59a4a1-4fe4-44de-988f-c33875dd2a09');\n",
              "var x = new MutationObserver(function (mutations, observer) {{\n",
              "        var display = window.getComputedStyle(gd).display;\n",
              "        if (!display || display === 'none') {{\n",
              "            console.log([gd, 'removed!']);\n",
              "            Plotly.purge(gd);\n",
              "            observer.disconnect();\n",
              "        }}\n",
              "}});\n",
              "\n",
              "// Listen for the removal of the full notebook cells\n",
              "var notebookContainer = gd.closest('#notebook-container');\n",
              "if (notebookContainer) {{\n",
              "    x.observe(notebookContainer, {childList: true});\n",
              "}}\n",
              "\n",
              "// Listen for the clearing of the current output cell\n",
              "var outputEl = gd.closest('.output');\n",
              "if (outputEl) {{\n",
              "    x.observe(outputEl, {childList: true});\n",
              "}}\n",
              "\n",
              "                        })                };                            </script>        </div>\n",
              "</body>\n",
              "</html>"
            ]
          },
          "metadata": {}
        }
      ]
    },
    {
      "cell_type": "markdown",
      "source": [
        "### Grupo B"
      ],
      "metadata": {
        "id": "4Jc6fULwxSKq"
      }
    },
    {
      "cell_type": "code",
      "source": [
        "grupo_b_df.groupby('Mensagem_de_Erro').size().plot(kind='barh', color=sns.palettes.mpl_palette('Dark2'))\n",
        "plt.gca().spines[['top', 'right',]].set_visible(False)"
      ],
      "metadata": {
        "colab": {
          "base_uri": "https://localhost:8080/",
          "height": 430
        },
        "id": "7g-DjIuiyjaw",
        "outputId": "88e05502-8b0f-4984-9ac0-ba3621588e15"
      },
      "execution_count": 82,
      "outputs": [
        {
          "output_type": "display_data",
          "data": {
            "text/plain": [
              "<Figure size 640x480 with 1 Axes>"
            ],
            "image/png": "[encoded data removed]"
          },
          "metadata": {}
        }
      ]
    },
    {
      "cell_type": "markdown",
      "source": [
        "O gráfico demonstra que, após as mudanças, o erro de 'Senha muito curta' diminui em comparação ao 'Erro 500'. Isso indica que, caso as mudanças tenham sido feitas em busca de diminuir o erro de senha, pode ter surtido efeito, mas como o objetivo é nos erros da primeira parte do formulário de recuperação de senha, em que não existe um campo para digitar a senha, o efeito nessa página, provavelmente, não foi satisfatório com as mudanças."
      ],
      "metadata": {
        "id": "GvWxOJ32_CT9"
      }
    },
    {
      "cell_type": "code",
      "source": [
        "df_encoded_b = grupo_b_df[['Scroll_Profundidade', 'Cliques', 'Páginas_Visitadas', 'Tempo_Interação', 'Tentativa', 'Páginas_Visitadas', 'Taxa_de_Rejeição']]"
      ],
      "metadata": {
        "id": "oF3YOkzuxOJr"
      },
      "execution_count": 83,
      "outputs": []
    },
    {
      "cell_type": "code",
      "source": [
        "import plotly.graph_objs as go\n",
        "\n",
        "df_corr = df_encoded_b.corr()\n",
        "\n",
        "fig = go.Figure()\n",
        "fig.add_trace(\n",
        "    go.Heatmap(\n",
        "        x = df_corr.columns,\n",
        "        y = df_corr.index,\n",
        "        z = np.array(df_corr),\n",
        "        text=df_corr.values,\n",
        "        texttemplate='%{text:.2f}'\n",
        "    )\n",
        ")\n",
        "fig.show()"
      ],
      "metadata": {
        "colab": {
          "base_uri": "https://localhost:8080/",
          "height": 542
        },
        "id": "fj_Oi4NvxQ7X",
        "outputId": "c291e86a-18c9-4c9f-f933-dc182a0898fe"
      },
      "execution_count": 84,
      "outputs": [
        {
          "output_type": "display_data",
          "data": {
            "text/html": [
              "<html>\n",
              "<head><meta charset=\"utf-8\" /></head>\n",
              "<body>\n",
              "    <div>            <script src=\"https://cdnjs.cloudflare.com/ajax/libs/mathjax/2.7.5/MathJax.js?config=TeX-AMS-MML_SVG\"></script><script type=\"text/javascript\">if (window.MathJax && window.MathJax.Hub && window.MathJax.Hub.Config) {window.MathJax.Hub.Config({SVG: {font: \"STIX-Web\"}});}</script>                <script type=\"text/javascript\">window.PlotlyConfig = {MathJaxConfig: 'local'};</script>\n",
              "        <script charset=\"utf-8\" src=\"https://cdn.plot.ly/plotly-2.24.1.min.js\"></script>                <div id=\"5f5e8206-8bd1-4ad1-b1f5-d3861bbadb9a\" class=\"plotly-graph-div\" style=\"height:525px; width:100%;\"></div>            <script type=\"text/javascript\">                                    window.PLOTLYENV=window.PLOTLYENV || {};                                    if (document.getElementById(\"5f5e8206-8bd1-4ad1-b1f5-d3861bbadb9a\")) {                    Plotly.newPlot(                        \"5f5e8206-8bd1-4ad1-b1f5-d3861bbadb9a\",                        [{\"text\":[[1.0,0.06783836886468644,-0.009339683421289885,0.011300719618947767,0.036541726740162254,-0.009339683421289885,-0.006908025344465735],[0.06783836886468644,1.0,-0.04396965665564505,0.050842984891921635,0.01528409194812182,-0.04396965665564505,0.06455911559549024],[-0.009339683421289885,-0.04396965665564505,1.0,0.03770920259608965,0.06352145359547035,1.0,0.04398213303834369],[0.011300719618947767,0.050842984891921635,0.03770920259608965,1.0,0.11249516702762373,0.037709202596089626,0.003934331782349095],[0.036541726740162254,0.01528409194812182,0.06352145359547035,0.11249516702762373,1.0,0.06352145359547037,-0.04702452712046144],[-0.009339683421289885,-0.04396965665564505,1.0,0.037709202596089626,0.06352145359547037,1.0,0.04398213303834369],[-0.006908025344465735,0.06455911559549024,0.04398213303834369,0.003934331782349095,-0.04702452712046144,0.04398213303834369,1.0]],\"texttemplate\":\"%{text:.2f}\",\"x\":[\"Scroll_Profundidade\",\"Cliques\",\"P\\u00e1ginas_Visitadas\",\"Tempo_Intera\\u00e7\\u00e3o\",\"Tentativa\",\"P\\u00e1ginas_Visitadas\",\"Taxa_de_Rejei\\u00e7\\u00e3o\"],\"y\":[\"Scroll_Profundidade\",\"Cliques\",\"P\\u00e1ginas_Visitadas\",\"Tempo_Intera\\u00e7\\u00e3o\",\"Tentativa\",\"P\\u00e1ginas_Visitadas\",\"Taxa_de_Rejei\\u00e7\\u00e3o\"],\"z\":[[1.0,0.06783836886468644,-0.009339683421289885,0.011300719618947767,0.036541726740162254,-0.009339683421289885,-0.006908025344465735],[0.06783836886468644,1.0,-0.04396965665564505,0.050842984891921635,0.01528409194812182,-0.04396965665564505,0.06455911559549024],[-0.009339683421289885,-0.04396965665564505,1.0,0.03770920259608965,0.06352145359547035,1.0,0.04398213303834369],[0.011300719618947767,0.050842984891921635,0.03770920259608965,1.0,0.11249516702762373,0.037709202596089626,0.003934331782349095],[0.036541726740162254,0.01528409194812182,0.06352145359547035,0.11249516702762373,1.0,0.06352145359547037,-0.04702452712046144],[-0.009339683421289885,-0.04396965665564505,1.0,0.037709202596089626,0.06352145359547037,1.0,0.04398213303834369],[-0.006908025344465735,0.06455911559549024,0.04398213303834369,0.003934331782349095,-0.04702452712046144,0.04398213303834369,1.0]],\"type\":\"heatmap\"}],                        {\"template\":{\"data\":{\"histogram2dcontour\":[{\"type\":\"histogram2dcontour\",\"colorbar\":{\"outlinewidth\":0,\"ticks\":\"\"},\"colorscale\":[[0.0,\"#0d0887\"],[0.1111111111111111,\"#46039f\"],[0.2222222222222222,\"#7201a8\"],[0.3333333333333333,\"#9c179e\"],[0.4444444444444444,\"#bd3786\"],[0.5555555555555556,\"#d8576b\"],[0.6666666666666666,\"#ed7953\"],[0.7777777777777778,\"#fb9f3a\"],[0.8888888888888888,\"#fdca26\"],[1.0,\"#f0f921\"]]}],\"choropleth\":[{\"type\":\"choropleth\",\"colorbar\":{\"outlinewidth\":0,\"ticks\":\"\"}}],\"histogram2d\":[{\"type\":\"histogram2d\",\"colorbar\":{\"outlinewidth\":0,\"ticks\":\"\"},\"colorscale\":[[0.0,\"#0d0887\"],[0.1111111111111111,\"#46039f\"],[0.2222222222222222,\"#7201a8\"],[0.3333333333333333,\"#9c179e\"],[0.4444444444444444,\"#bd3786\"],[0.5555555555555556,\"#d8576b\"],[0.6666666666666666,\"#ed7953\"],[0.7777777777777778,\"#fb9f3a\"],[0.8888888888888888,\"#fdca26\"],[1.0,\"#f0f921\"]]}],\"heatmap\":[{\"type\":\"heatmap\",\"colorbar\":{\"outlinewidth\":0,\"ticks\":\"\"},\"colorscale\":[[0.0,\"#0d0887\"],[0.1111111111111111,\"#46039f\"],[0.2222222222222222,\"#7201a8\"],[0.3333333333333333,\"#9c179e\"],[0.4444444444444444,\"#bd3786\"],[0.5555555555555556,\"#d8576b\"],[0.6666666666666666,\"#ed7953\"],[0.7777777777777778,\"#fb9f3a\"],[0.8888888888888888,\"#fdca26\"],[1.0,\"#f0f921\"]]}],\"heatmapgl\":[{\"type\":\"heatmapgl\",\"colorbar\":{\"outlinewidth\":0,\"ticks\":\"\"},\"colorscale\":[[0.0,\"#0d0887\"],[0.1111111111111111,\"#46039f\"],[0.2222222222222222,\"#7201a8\"],[0.3333333333333333,\"#9c179e\"],[0.4444444444444444,\"#bd3786\"],[0.5555555555555556,\"#d8576b\"],[0.6666666666666666,\"#ed7953\"],[0.7777777777777778,\"#fb9f3a\"],[0.8888888888888888,\"#fdca26\"],[1.0,\"#f0f921\"]]}],\"contourcarpet\":[{\"type\":\"contourcarpet\",\"colorbar\":{\"outlinewidth\":0,\"ticks\":\"\"}}],\"contour\":[{\"type\":\"contour\",\"colorbar\":{\"outlinewidth\":0,\"ticks\":\"\"},\"colorscale\":[[0.0,\"#0d0887\"],[0.1111111111111111,\"#46039f\"],[0.2222222222222222,\"#7201a8\"],[0.3333333333333333,\"#9c179e\"],[0.4444444444444444,\"#bd3786\"],[0.5555555555555556,\"#d8576b\"],[0.6666666666666666,\"#ed7953\"],[0.7777777777777778,\"#fb9f3a\"],[0.8888888888888888,\"#fdca26\"],[1.0,\"#f0f921\"]]}],\"surface\":[{\"type\":\"surface\",\"colorbar\":{\"outlinewidth\":0,\"ticks\":\"\"},\"colorscale\":[[0.0,\"#0d0887\"],[0.1111111111111111,\"#46039f\"],[0.2222222222222222,\"#7201a8\"],[0.3333333333333333,\"#9c179e\"],[0.4444444444444444,\"#bd3786\"],[0.5555555555555556,\"#d8576b\"],[0.6666666666666666,\"#ed7953\"],[0.7777777777777778,\"#fb9f3a\"],[0.8888888888888888,\"#fdca26\"],[1.0,\"#f0f921\"]]}],\"mesh3d\":[{\"type\":\"mesh3d\",\"colorbar\":{\"outlinewidth\":0,\"ticks\":\"\"}}],\"scatter\":[{\"fillpattern\":{\"fillmode\":\"overlay\",\"size\":10,\"solidity\":0.2},\"type\":\"scatter\"}],\"parcoords\":[{\"type\":\"parcoords\",\"line\":{\"colorbar\":{\"outlinewidth\":0,\"ticks\":\"\"}}}],\"scatterpolargl\":[{\"type\":\"scatterpolargl\",\"marker\":{\"colorbar\":{\"outlinewidth\":0,\"ticks\":\"\"}}}],\"bar\":[{\"error_x\":{\"color\":\"#2a3f5f\"},\"error_y\":{\"color\":\"#2a3f5f\"},\"marker\":{\"line\":{\"color\":\"#E5ECF6\",\"width\":0.5},\"pattern\":{\"fillmode\":\"overlay\",\"size\":10,\"solidity\":0.2}},\"type\":\"bar\"}],\"scattergeo\":[{\"type\":\"scattergeo\",\"marker\":{\"colorbar\":{\"outlinewidth\":0,\"ticks\":\"\"}}}],\"scatterpolar\":[{\"type\":\"scatterpolar\",\"marker\":{\"colorbar\":{\"outlinewidth\":0,\"ticks\":\"\"}}}],\"histogram\":[{\"marker\":{\"pattern\":{\"fillmode\":\"overlay\",\"size\":10,\"solidity\":0.2}},\"type\":\"histogram\"}],\"scattergl\":[{\"type\":\"scattergl\",\"marker\":{\"colorbar\":{\"outlinewidth\":0,\"ticks\":\"\"}}}],\"scatter3d\":[{\"type\":\"scatter3d\",\"line\":{\"colorbar\":{\"outlinewidth\":0,\"ticks\":\"\"}},\"marker\":{\"colorbar\":{\"outlinewidth\":0,\"ticks\":\"\"}}}],\"scattermapbox\":[{\"type\":\"scattermapbox\",\"marker\":{\"colorbar\":{\"outlinewidth\":0,\"ticks\":\"\"}}}],\"scatterternary\":[{\"type\":\"scatterternary\",\"marker\":{\"colorbar\":{\"outlinewidth\":0,\"ticks\":\"\"}}}],\"scattercarpet\":[{\"type\":\"scattercarpet\",\"marker\":{\"colorbar\":{\"outlinewidth\":0,\"ticks\":\"\"}}}],\"carpet\":[{\"aaxis\":{\"endlinecolor\":\"#2a3f5f\",\"gridcolor\":\"white\",\"linecolor\":\"white\",\"minorgridcolor\":\"white\",\"startlinecolor\":\"#2a3f5f\"},\"baxis\":{\"endlinecolor\":\"#2a3f5f\",\"gridcolor\":\"white\",\"linecolor\":\"white\",\"minorgridcolor\":\"white\",\"startlinecolor\":\"#2a3f5f\"},\"type\":\"carpet\"}],\"table\":[{\"cells\":{\"fill\":{\"color\":\"#EBF0F8\"},\"line\":{\"color\":\"white\"}},\"header\":{\"fill\":{\"color\":\"#C8D4E3\"},\"line\":{\"color\":\"white\"}},\"type\":\"table\"}],\"barpolar\":[{\"marker\":{\"line\":{\"color\":\"#E5ECF6\",\"width\":0.5},\"pattern\":{\"fillmode\":\"overlay\",\"size\":10,\"solidity\":0.2}},\"type\":\"barpolar\"}],\"pie\":[{\"automargin\":true,\"type\":\"pie\"}]},\"layout\":{\"autotypenumbers\":\"strict\",\"colorway\":[\"#636efa\",\"#EF553B\",\"#00cc96\",\"#ab63fa\",\"#FFA15A\",\"#19d3f3\",\"#FF6692\",\"#B6E880\",\"#FF97FF\",\"#FECB52\"],\"font\":{\"color\":\"#2a3f5f\"},\"hovermode\":\"closest\",\"hoverlabel\":{\"align\":\"left\"},\"paper_bgcolor\":\"white\",\"plot_bgcolor\":\"#E5ECF6\",\"polar\":{\"bgcolor\":\"#E5ECF6\",\"angularaxis\":{\"gridcolor\":\"white\",\"linecolor\":\"white\",\"ticks\":\"\"},\"radialaxis\":{\"gridcolor\":\"white\",\"linecolor\":\"white\",\"ticks\":\"\"}},\"ternary\":{\"bgcolor\":\"#E5ECF6\",\"aaxis\":{\"gridcolor\":\"white\",\"linecolor\":\"white\",\"ticks\":\"\"},\"baxis\":{\"gridcolor\":\"white\",\"linecolor\":\"white\",\"ticks\":\"\"},\"caxis\":{\"gridcolor\":\"white\",\"linecolor\":\"white\",\"ticks\":\"\"}},\"coloraxis\":{\"colorbar\":{\"outlinewidth\":0,\"ticks\":\"\"}},\"colorscale\":{\"sequential\":[[0.0,\"#0d0887\"],[0.1111111111111111,\"#46039f\"],[0.2222222222222222,\"#7201a8\"],[0.3333333333333333,\"#9c179e\"],[0.4444444444444444,\"#bd3786\"],[0.5555555555555556,\"#d8576b\"],[0.6666666666666666,\"#ed7953\"],[0.7777777777777778,\"#fb9f3a\"],[0.8888888888888888,\"#fdca26\"],[1.0,\"#f0f921\"]],\"sequentialminus\":[[0.0,\"#0d0887\"],[0.1111111111111111,\"#46039f\"],[0.2222222222222222,\"#7201a8\"],[0.3333333333333333,\"#9c179e\"],[0.4444444444444444,\"#bd3786\"],[0.5555555555555556,\"#d8576b\"],[0.6666666666666666,\"#ed7953\"],[0.7777777777777778,\"#fb9f3a\"],[0.8888888888888888,\"#fdca26\"],[1.0,\"#f0f921\"]],\"diverging\":[[0,\"#8e0152\"],[0.1,\"#c51b7d\"],[0.2,\"#de77ae\"],[0.3,\"#f1b6da\"],[0.4,\"#fde0ef\"],[0.5,\"#f7f7f7\"],[0.6,\"#e6f5d0\"],[0.7,\"#b8e186\"],[0.8,\"#7fbc41\"],[0.9,\"#4d9221\"],[1,\"#276419\"]]},\"xaxis\":{\"gridcolor\":\"white\",\"linecolor\":\"white\",\"ticks\":\"\",\"title\":{\"standoff\":15},\"zerolinecolor\":\"white\",\"automargin\":true,\"zerolinewidth\":2},\"yaxis\":{\"gridcolor\":\"white\",\"linecolor\":\"white\",\"ticks\":\"\",\"title\":{\"standoff\":15},\"zerolinecolor\":\"white\",\"automargin\":true,\"zerolinewidth\":2},\"scene\":{\"xaxis\":{\"backgroundcolor\":\"#E5ECF6\",\"gridcolor\":\"white\",\"linecolor\":\"white\",\"showbackground\":true,\"ticks\":\"\",\"zerolinecolor\":\"white\",\"gridwidth\":2},\"yaxis\":{\"backgroundcolor\":\"#E5ECF6\",\"gridcolor\":\"white\",\"linecolor\":\"white\",\"showbackground\":true,\"ticks\":\"\",\"zerolinecolor\":\"white\",\"gridwidth\":2},\"zaxis\":{\"backgroundcolor\":\"#E5ECF6\",\"gridcolor\":\"white\",\"linecolor\":\"white\",\"showbackground\":true,\"ticks\":\"\",\"zerolinecolor\":\"white\",\"gridwidth\":2}},\"shapedefaults\":{\"line\":{\"color\":\"#2a3f5f\"}},\"annotationdefaults\":{\"arrowcolor\":\"#2a3f5f\",\"arrowhead\":0,\"arrowwidth\":1},\"geo\":{\"bgcolor\":\"white\",\"landcolor\":\"#E5ECF6\",\"subunitcolor\":\"white\",\"showland\":true,\"showlakes\":true,\"lakecolor\":\"white\"},\"title\":{\"x\":0.05},\"mapbox\":{\"style\":\"light\"}}}},                        {\"responsive\": true}                    ).then(function(){\n",
              "                            \n",
              "var gd = document.getElementById('5f5e8206-8bd1-4ad1-b1f5-d3861bbadb9a');\n",
              "var x = new MutationObserver(function (mutations, observer) {{\n",
              "        var display = window.getComputedStyle(gd).display;\n",
              "        if (!display || display === 'none') {{\n",
              "            console.log([gd, 'removed!']);\n",
              "            Plotly.purge(gd);\n",
              "            observer.disconnect();\n",
              "        }}\n",
              "}});\n",
              "\n",
              "// Listen for the removal of the full notebook cells\n",
              "var notebookContainer = gd.closest('#notebook-container');\n",
              "if (notebookContainer) {{\n",
              "    x.observe(notebookContainer, {childList: true});\n",
              "}}\n",
              "\n",
              "// Listen for the clearing of the current output cell\n",
              "var outputEl = gd.closest('.output');\n",
              "if (outputEl) {{\n",
              "    x.observe(outputEl, {childList: true});\n",
              "}}\n",
              "\n",
              "                        })                };                            </script>        </div>\n",
              "</body>\n",
              "</html>"
            ]
          },
          "metadata": {}
        }
      ]
    },
    {
      "cell_type": "markdown",
      "source": [
        "A partir da matriz de correlação do grupo de teste (b), fica visível a mudança na correlação entre taxa de rejeição e tentativa em comparação a matriz de correlação do grupo de controle (a), indicando que, quanto maior a quantidade de tentativas do envio do formulário, maior a taxa de rejeição do mesmo por parte dos usuários."
      ],
      "metadata": {
        "id": "1sKVSly7-utq"
      }
    },
    {
      "cell_type": "markdown",
      "source": [
        "### Tarefa 2: Levantamento da hipótese estatística"
      ],
      "metadata": {
        "id": "G1vV1cqG2wzC"
      }
    },
    {
      "cell_type": "markdown",
      "source": [
        "A partir das análises feitas, é possível perceber, primeiramente, que a mensagem de erros que mais aparece, tanto no grupo A, quanto no B, é 'Campo Obrigatório', numa quantidade expressivamente superior às demais. Junto à isso, a partir da matriz de correlação, fica claro que, a medida que o número de tentativas aumenta, a taxa de rejeição também aumenta, métrica que buscamos diminuir.\n",
        "\n",
        "Tendo essas conclusões, pode-se inferir que o erro 'Campo obrigatório' é o mais comum e que persiste nas tentativas, levando à rejeição da página por parte dos usuários. A partir disso, são estabelecidas as hipóteses nula e alternativa."
      ],
      "metadata": {
        "id": "FK-rAUvw23H3"
      }
    },
    {
      "cell_type": "markdown",
      "source": [
        "$H_{0}$: Estabelecer claramente os campos obrigatórios para brasileiros e estrangeiros não irá reduzir as tentativas e nem a taxa de rejeição."
      ],
      "metadata": {
        "id": "NtKwoMWkRNvM"
      }
    },
    {
      "cell_type": "markdown",
      "source": [
        "$H_{A}$: Estabelecer claramente os campos obrigatórios para brasileiros e estrangeiros irá reduzir as tentativas e, consequentemente, a taxa de rejeição."
      ],
      "metadata": {
        "id": "lYnzlaJJR_Cp"
      }
    },
    {
      "cell_type": "markdown",
      "source": [
        "### Tarefa 3: Proposta do Teste A/B"
      ],
      "metadata": {
        "id": "6NJlHJoqPeZa"
      }
    },
    {
      "cell_type": "markdown",
      "source": [
        "A partir das hipóteses estabelecidas e dos dados analisados, propõe-se dividir a tela entre estrangeiro e brasileiro, aplicando de maneira responsiva a seleção da categoria, visto que os dois possuem campos obrigatórios diferentes e comunicar claramente quais são os campos obrigatórios, substituindo * por 'Obrigatório'."
      ],
      "metadata": {
        "id": "sbUYmZOQQZQh"
      }
    },
    {
      "cell_type": "markdown",
      "source": [
        "#### 3.1 Versão B modificada"
      ],
      "metadata": {
        "id": "SxnvE9HyQc1b"
      }
    },
    {
      "cell_type": "markdown",
      "source": [
        "##### Versão B - Nacionalidade brasileiro"
      ],
      "metadata": {
        "id": "L4jZK8X13rW5"
      }
    },
    {
      "cell_type": "markdown",
      "source": [
        "![image.png](data:image/png;base64,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)"
      ],
      "metadata": {
        "id": "EQbUDPck2wdV"
      }
    },
    {
      "cell_type": "markdown",
      "source": [
        "##### Versão B - nacionalidade estrangeiro"
      ],
      "metadata": {
        "id": "Rn0gdUI73qV9"
      }
    },
    {
      "cell_type": "markdown",
      "source": [
        "![image.png](data:image/png;base64,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)"
      ],
      "metadata": {
        "id": "nDjVVB3Y3zxm"
      }
    },
    {
      "cell_type": "markdown",
      "source": [
        "#### 3.2 Mapeamento e identificação do(s) elemento(s)"
      ],
      "metadata": {
        "id": "L6cLTwWSQ-yP"
      }
    },
    {
      "cell_type": "markdown",
      "source": [
        "Os elementos alterados a fim de atingir o objetivo da hipótese alternativa são:\n",
        "1. Arquitetura da Informação: Ao selecionar a categoria da Nacionalidade, os campos demarcados como obrigatórios mudam, ou seja, apenas os denominados obrigatórios a cada classificação são expressos na identificação, a fim de evitar a confusão de quais são os campos obrigatórios para sua nacionalidade e, assim, diminuir o número de tentativas de envio do formulário até o sucesso.\n",
        "2. Redação estratégica: Foi retirada a indeitificação de campos obrigatórios de '*', com a descrição inferior 'Os campos marcados com * são obrigatórios.' para a inserção do texto 'Obrigatório' apenas nos campos definidos para cada nacionalidade (explicado no tópico anterior), a fim de deixar a mensagem mais clara para o usuário e diminuir o número de tentativas do envio do formulário por erros de 'Campo obrigatório'."
      ],
      "metadata": {
        "id": "7YXJ-b1E37dx"
      }
    },
    {
      "cell_type": "markdown",
      "source": [
        "### Tarefa 4:Teste de significância estatística (Teste t)"
      ],
      "metadata": {
        "id": "WfrzTxtK3bNX"
      }
    },
    {
      "cell_type": "code",
      "source": [
        "ga = pd.read_csv('/content/ITL-SI10-2024-P2-analytics-durante-grupo-A.csv')"
      ],
      "metadata": {
        "id": "0lg0XLzj9LMZ"
      },
      "execution_count": 93,
      "outputs": []
    },
    {
      "cell_type": "code",
      "source": [
        "gb = pd.read_csv('/content/ITL-SI10-2024-P2-analytics-durante-grupo-B.csv')"
      ],
      "metadata": {
        "id": "xYzZgrG-9TC4"
      },
      "execution_count": 101,
      "outputs": []
    },
    {
      "cell_type": "code",
      "source": [
        "grupo_controle = ga['Taxa_de_Rejeição']\n",
        "grupo_experimental = gb['Taxa_de_Rejeição']\n",
        "\n",
        "t_stat, p_value = stats.ttest_ind(grupo_controle, grupo_experimental)\n",
        "print(f\"Estatística t: {t_stat}, Valor-p: {p_value}\")"
      ],
      "metadata": {
        "colab": {
          "base_uri": "https://localhost:8080/"
        },
        "id": "sr7mk0hJ6Kz3",
        "outputId": "e4fc2581-52fa-4f51-e98e-8da3f8e350a5"
      },
      "execution_count": 103,
      "outputs": [
        {
          "output_type": "stream",
          "name": "stdout",
          "text": [
            "Estatística t: 17.021597400473585, Valor-p: 1.5527919922731908e-59\n"
          ]
        }
      ]
    },
    {
      "cell_type": "markdown",
      "source": [
        "A estatística t positiva indica que a média do grupo experimental é maior que a média do grupo controle. Junto com um valor-p maior que 0,05, a diferença entre os grupos não é estatisticamente significativa ao nível de 5%. Isso significa que a hipótese nula não deve ser rejeitada."
      ],
      "metadata": {
        "id": "iNKWzq4N-G_K"
      }
    }
  ]
}